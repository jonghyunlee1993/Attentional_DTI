{
 "cells": [
  {
   "cell_type": "markdown",
   "id": "631d7426",
   "metadata": {},
   "source": [
    "# Tokenization\n",
    "- need to process just one time"
   ]
  },
  {
   "cell_type": "code",
   "execution_count": 1,
   "id": "9ba2a952",
   "metadata": {},
   "outputs": [],
   "source": [
    "# from tokenizers import BertWordPieceTokenizer\n",
    "\n",
    "# tokenizer = BertWordPieceTokenizer(\n",
    "#     strip_accents=True,\n",
    "#     lowercase=False\n",
    "# )\n",
    "\n",
    "# corpus_file = ['data/drug/molecule_total.txt']\n",
    "# vocab_size = 200\n",
    "# min_frequency = 10\n",
    "\n",
    "# tokenizer.train(\n",
    "#     files=corpus_file,\n",
    "#     vocab_size=vocab_size,\n",
    "#     min_frequency=min_frequency,\n",
    "#     show_progress=True\n",
    "# )"
   ]
  },
  {
   "cell_type": "code",
   "execution_count": 2,
   "id": "5f59347d",
   "metadata": {},
   "outputs": [],
   "source": [
    "# import os\n",
    "\n",
    "# hf_model_path='data/drug/tokenizer_model'\n",
    "\n",
    "# if not os.path.isdir(hf_model_path):\n",
    "#     os.mkdir(hf_model_path)\n",
    "\n",
    "# tokenizer.save_model(hf_model_path)\n",
    "# tokenizer.save(\"data/drug/tokenizer_model/tokenizer.json\")"
   ]
  },
  {
   "cell_type": "markdown",
   "id": "6c7506a9",
   "metadata": {},
   "source": [
    "# Load Tokenizer"
   ]
  },
  {
   "cell_type": "code",
   "execution_count": 1,
   "id": "65edfec5",
   "metadata": {},
   "outputs": [
    {
     "name": "stdout",
     "output_type": "stream",
     "text": [
      "load tokenizer\n",
      "vocab size: 200\n",
      "special tokens: ['[UNK]', '[SEP]', '[PAD]', '[CLS]', '[MASK]']\n"
     ]
    }
   ],
   "source": [
    "from transformers import PreTrainedTokenizerFast\n",
    "\n",
    "fast_tokenizer = PreTrainedTokenizerFast(\n",
    "    tokenizer_file=\"data/drug/tokenizer_model/tokenizer.json\",\n",
    "    pad_token=\"[PAD]\",\n",
    "    mask_token=\"[MASK]\",\n",
    "    cls_token=\"[CLS]\",\n",
    "    sep_token=\"[SEP]\",\n",
    "    unk_token=\"[UNK]\"\n",
    ")\n",
    "\n",
    "vocab_size = len(fast_tokenizer.get_vocab().keys())\n",
    "\n",
    "print(f\"load tokenizer\\nvocab size: {vocab_size}\\nspecial tokens: {fast_tokenizer.all_special_tokens}\")"
   ]
  },
  {
   "cell_type": "code",
   "execution_count": 2,
   "id": "e22cdd93",
   "metadata": {},
   "outputs": [
    {
     "name": "stdout",
     "output_type": "stream",
     "text": [
      "X_train: 59950729 X_valid: 14987683 X_test: 18734604\n"
     ]
    }
   ],
   "source": [
    "import os\n",
    "import pickle\n",
    "\n",
    "if not os.path.exists(\"data/drug/X.pkl\"):\n",
    "    from sklearn.model_selection import train_test_split\n",
    "    \n",
    "    with open(\"data/drug/molecule_total.txt\", 'r') as f:\n",
    "        data = f.readlines()\n",
    "    \n",
    "        print(f\"load dataset ... # of data: {len(data)}\")\n",
    "    \n",
    "    X_train, X_test = train_test_split(data, test_size=0.2, random_state=42, shuffle=True)\n",
    "    X_train, X_valid = train_test_split(X_train, test_size=0.2, random_state=42, shuffle=True)\n",
    "    \n",
    "    with open(\"data/drug/X.pkl\", \"wb\") as f:\n",
    "        pickle.dump([X_train, X_valid, X_test], f)\n",
    "else:\n",
    "    with open(\"data/drug/X.pkl\", \"rb\") as f:\n",
    "        X_train, X_valid, X_test = pickle.load(f)\n",
    "\n",
    "print(f\"load dataset\\nX_train: {len(X_train)}\\nX_valid: {len(X_valid)}\\nX_test: {len(X_test)}\")"
   ]
  },
  {
   "cell_type": "code",
   "execution_count": 10,
   "id": "11933b85",
   "metadata": {},
   "outputs": [],
   "source": [
    "import torch\n",
    "import torch.nn as nn\n",
    "from torch.utils.data import DataLoader, Dataset\n",
    "from transformers import DataCollatorForLanguageModeling\n",
    "\n",
    "class MaskedLMDataset(Dataset):\n",
    "    def __init__(self, data, tokenizer, max_length=128):\n",
    "        self.data = data\n",
    "        self.tokenizer = tokenizer\n",
    "        self.max_length = max_length\n",
    "        \n",
    "        \n",
    "    def encode(self, data):\n",
    "        return self.tokenizer.encode(data, max_length=self.max_length, truncation=True)\n",
    "        \n",
    "        \n",
    "    def __len__(self):\n",
    "        return len(self.data)\n",
    "\n",
    "    \n",
    "    def __getitem__(self, idx):\n",
    "        return torch.tensor(self.encode(self.data[idx]), dtype=torch.long)\n",
    "    \n",
    "    \n",
    "data_collator = DataCollatorForLanguageModeling(\n",
    "    tokenizer=fast_tokenizer, mlm=True, mlm_probability=0.3\n",
    ")\n",
    "\n",
    "train_dataset = MaskedLMDataset(X_train, fast_tokenizer)\n",
    "train_loader = DataLoader(train_dataset, batch_size=1024, collate_fn=data_collator, num_workers=16)\n",
    "\n",
    "valid_dataset = MaskedLMDataset(X_valid, fast_tokenizer)\n",
    "valid_loader = DataLoader(valid_dataset, batch_size=1024, collate_fn=data_collator, num_workers=16)\n",
    "\n",
    "test_dataset = MaskedLMDataset(X_test, fast_tokenizer)\n",
    "test_loader = DataLoader(test_dataset, batch_size=1024, collate_fn=data_collator, num_workers=16)"
   ]
  },
  {
   "cell_type": "code",
   "execution_count": null,
   "id": "05c10b08",
   "metadata": {
    "scrolled": true
   },
   "outputs": [
    {
     "name": "stderr",
     "output_type": "stream",
     "text": [
      "GPU available: True, used: True\n",
      "TPU available: False, using: 0 TPU cores\n",
      "IPU available: False, using: 0 IPUs\n",
      "LOCAL_RANK: 0 - CUDA_VISIBLE_DEVICES: [0]\n",
      "\n",
      "  | Name           | Type            | Params\n",
      "---------------------------------------------------\n",
      "0 | model          | BertForMaskedLM | 1.6 M \n",
      "1 | train_accuracy | Accuracy        | 0     \n",
      "2 | valid_accuracy | Accuracy        | 0     \n",
      "---------------------------------------------------\n",
      "1.6 M     Trainable params\n",
      "0         Non-trainable params\n",
      "1.6 M     Total params\n",
      "6.582     Total estimated model params size (MB)\n"
     ]
    },
    {
     "data": {
      "application/vnd.jupyter.widget-view+json": {
       "model_id": "9cab28bf35e447d3a760a260cb097bd9",
       "version_major": 2,
       "version_minor": 0
      },
      "text/plain": [
       "Training: 0it [00:00, ?it/s]"
      ]
     },
     "metadata": {},
     "output_type": "display_data"
    }
   ],
   "source": [
    "import numpy as np\n",
    "import torchmetrics\n",
    "import pytorch_lightning as pl\n",
    "from transformers import BertConfig, BertForMaskedLM\n",
    "from pytorch_lightning.callbacks import ModelCheckpoint, EarlyStopping\n",
    "\n",
    "config = BertConfig(\n",
    "    vocab_size=vocab_size,\n",
    "    hidden_size=128,\n",
    "    num_hidden_layers=8,\n",
    "    num_attention_heads=8,\n",
    "    intermediate_size=512,\n",
    "    hidden_act=\"gelu\",\n",
    "    hidden_dropout_prob=0.1,\n",
    "    attention_probs_dropout_prob=0.1,\n",
    "    max_position_embeddings=128,\n",
    "    type_vocab_size=1,\n",
    "    pad_token_id=0,\n",
    "    position_embedding_type=\"absolute\"\n",
    ")\n",
    "\n",
    "\n",
    "class Bert(pl.LightningModule):\n",
    "    def __init__(self, config):\n",
    "        super().__init__()\n",
    "        self.model = BertForMaskedLM(config)\n",
    "        self.train_accuracy = torchmetrics.Accuracy()\n",
    "        self.valid_accuracy = torchmetrics.Accuracy()\n",
    "        \n",
    "        \n",
    "    def forward(self, input_ids, labels):\n",
    "        return self.model(input_ids=input_ids, labels=labels)\n",
    "\n",
    "       \n",
    "    def training_step(self, batch, batch_idx):\n",
    "        input_ids = batch['input_ids']\n",
    "        labels = batch['labels']\n",
    "        \n",
    "        output = self(input_ids, labels)\n",
    "\n",
    "        loss = output.loss\n",
    "        logits = output.logits\n",
    "\n",
    "        preds = logits.argmax(dim=-1)\n",
    "        \n",
    "        self.log('train_loss', float(loss), on_step=True, on_epoch=True, prog_bar=True)\n",
    "        self.log(\"train_accuracy\", self.train_accuracy(preds[labels > 0], labels[labels > 0]), on_step=False, on_epoch=True, prog_bar=True, logger=True)\n",
    "        \n",
    "        return loss\n",
    "\n",
    "    \n",
    "    def validation_step(self, batch, batch_idx):\n",
    "        input_ids = batch['input_ids']\n",
    "        labels = batch['labels']\n",
    "        \n",
    "        output = self(input_ids, labels)\n",
    "\n",
    "        loss = output.loss\n",
    "        logits = output.logits\n",
    "\n",
    "        preds = logits.argmax(dim=-1)\n",
    "        \n",
    "        self.log('valid_loss', float(loss), on_step=False, on_epoch=True, prog_bar=True)\n",
    "        self.log(\"valid_accuracy\", self.valid_accuracy(preds[labels > 0], labels[labels > 0]), on_step=False, on_epoch=True, prog_bar=True, logger=True)\n",
    "\n",
    "    \n",
    "    def configure_optimizers(self):\n",
    "        optimizer = torch.optim.AdamW(self.parameters(), lr=1e-5)\n",
    "        scheduler = torch.optim.lr_scheduler.ReduceLROnPlateau(optimizer, patience=10)\n",
    "\n",
    "        return {\"optimizer\": optimizer, \"lr_scheduler\": scheduler, \"monitor\": \"valid_loss\"}\n",
    "\n",
    "    \n",
    "model = Bert(config)\n",
    "callbacks = [\n",
    "    ModelCheckpoint(monitor='val_loss', dirpath='weights/molecule_bert', filename='molecule_bert-{epoch:02d}-{val_loss:.2f}'),\n",
    "    EarlyStopping('valid_loss', patience=25)\n",
    "]\n",
    "\n",
    "trainer = pl.Trainer(max_epochs=100, gpus=1, enable_progress_bar=True, callbacks=callbacks)\n",
    "trainer.fit(model, train_loader)"
   ]
  },
  {
   "cell_type": "code",
   "execution_count": null,
   "id": "65eb1022",
   "metadata": {},
   "outputs": [],
   "source": []
  }
 ],
 "metadata": {
  "kernelspec": {
   "display_name": "Python 3",
   "language": "python",
   "name": "python3"
  },
  "language_info": {
   "codemirror_mode": {
    "name": "ipython",
    "version": 3
   },
   "file_extension": ".py",
   "mimetype": "text/x-python",
   "name": "python",
   "nbconvert_exporter": "python",
   "pygments_lexer": "ipython3",
   "version": "3.8.0"
  }
 },
 "nbformat": 4,
 "nbformat_minor": 5
}
