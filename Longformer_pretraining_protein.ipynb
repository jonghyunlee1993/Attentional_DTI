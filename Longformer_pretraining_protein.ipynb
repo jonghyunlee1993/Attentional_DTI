{
 "cells": [
  {
   "cell_type": "markdown",
   "id": "6c7506a9",
   "metadata": {},
   "source": [
    "# Load Tokenizer"
   ]
  },
  {
   "cell_type": "code",
   "execution_count": 1,
   "id": "65edfec5",
   "metadata": {},
   "outputs": [
    {
     "name": "stdout",
     "output_type": "stream",
     "text": [
      "load tokenizer\n",
      "vocab size: 10261\n",
      "special tokens: ['<s>', '</s>', '<unk>', '<pad>', '<mask>']\n"
     ]
    }
   ],
   "source": [
    "from transformers import AutoTokenizer\n",
    "\n",
    "fast_tokenizer = AutoTokenizer.from_pretrained(\"data/target/tokenizer_model\")\n",
    "\n",
    "vocab_size = len(fast_tokenizer.get_vocab().keys())\n",
    "\n",
    "print(f\"load tokenizer\\nvocab size: {vocab_size}\\nspecial tokens: {fast_tokenizer.all_special_tokens}\")"
   ]
  },
  {
   "cell_type": "code",
   "execution_count": 2,
   "id": "e22cdd93",
   "metadata": {},
   "outputs": [
    {
     "name": "stdout",
     "output_type": "stream",
     "text": [
      "load dataset\n",
      "X_train: 49005000\n",
      "X_valid: 495000\n",
      "X_test: 500000\n"
     ]
    }
   ],
   "source": [
    "import os\n",
    "import pickle\n",
    "\n",
    "if not os.path.exists(\"data/target/X.pkl\"):\n",
    "    from sklearn.model_selection import train_test_split\n",
    "    \n",
    "    with open(\"data/target/protein_sub_1.pickle\", \"rb\") as f:\n",
    "        data = pickle.load(f)\n",
    "        data = list(data.values())\n",
    "    \n",
    "        print(f\"load dataset ... # of data: {len(data)}\")\n",
    "    \n",
    "    X_train, X_test = train_test_split(data, test_size=0.01, random_state=42, shuffle=True)\n",
    "    X_train, X_valid = train_test_split(X_train, test_size=0.01, random_state=42, shuffle=True)\n",
    "    \n",
    "    with open(\"data/target/X.pkl\", \"wb\") as f:\n",
    "        pickle.dump([X_train, X_valid, X_test], f)\n",
    "else:\n",
    "    with open(\"data/target/X.pkl\", \"rb\") as f:\n",
    "        X_train, X_valid, X_test = pickle.load(f)\n",
    "        \n",
    "print(f\"load dataset\\nX_train: {len(X_train)}\\nX_valid: {len(X_valid)}\\nX_test: {len(X_test)}\")"
   ]
  },
  {
   "cell_type": "code",
   "execution_count": 3,
   "id": "11933b85",
   "metadata": {},
   "outputs": [],
   "source": [
    "import torch\n",
    "import torch.nn as nn\n",
    "from torch.utils.data import DataLoader, Dataset, RandomSampler\n",
    "from transformers import DataCollatorForLanguageModeling\n",
    "\n",
    "class MaskedLMDataset(Dataset):\n",
    "    def __init__(self, data, tokenizer, max_length=512):\n",
    "        self.data = data\n",
    "        self.tokenizer = tokenizer\n",
    "        self.max_length = max_length\n",
    "        \n",
    "        \n",
    "    def encode(self, data):\n",
    "        return self.tokenizer.encode(data, max_length=self.max_length, truncation=True)\n",
    "        \n",
    "        \n",
    "    def __len__(self):\n",
    "        return len(self.data)\n",
    "\n",
    "    \n",
    "    def __getitem__(self, idx):\n",
    "        return torch.tensor(self.encode(self.data[idx]), dtype=torch.long)\n",
    "    \n",
    "    \n",
    "data_collator = DataCollatorForLanguageModeling(\n",
    "    tokenizer=fast_tokenizer, mlm=True, mlm_probability=0.2\n",
    ")\n",
    "\n",
    "train_dataset = MaskedLMDataset(X_train, fast_tokenizer)\n",
    "train_sampler = RandomSampler(X_train, replacement=True, num_samples=16000)\n",
    "train_loader = DataLoader(train_dataset, batch_size=32, collate_fn=data_collator, num_workers=16, pin_memory=True, prefetch_factor=10, drop_last=True, sampler=train_sampler)\n",
    "\n",
    "valid_dataset = MaskedLMDataset(X_valid, fast_tokenizer)\n",
    "valid_sampler = RandomSampler(X_valid, replacement=True, num_samples=1600)\n",
    "valid_loader = DataLoader(valid_dataset, batch_size=32, collate_fn=data_collator, num_workers=16, pin_memory=True, prefetch_factor=10, sampler=valid_sampler)\n",
    "\n",
    "test_dataset = MaskedLMDataset(X_test, fast_tokenizer)\n",
    "test_loader = DataLoader(test_dataset, batch_size=32, collate_fn=data_collator, num_workers=16, pin_memory=True, prefetch_factor=10)"
   ]
  },
  {
   "cell_type": "code",
   "execution_count": null,
   "id": "ba17e5ba",
   "metadata": {
    "scrolled": false
   },
   "outputs": [
    {
     "name": "stderr",
     "output_type": "stream",
     "text": [
      "Using 16bit native Automatic Mixed Precision (AMP)\n",
      "GPU available: True, used: True\n",
      "TPU available: False, using: 0 TPU cores\n",
      "IPU available: False, using: 0 IPUs\n",
      "LOCAL_RANK: 0 - CUDA_VISIBLE_DEVICES: [0]\n",
      "\n",
      "  | Name           | Type                  | Params\n",
      "---------------------------------------------------------\n",
      "0 | model          | LongformerForMaskedLM | 115 M \n",
      "1 | train_accuracy | Accuracy              | 0     \n",
      "2 | valid_accuracy | Accuracy              | 0     \n",
      "3 | test_accuracy  | Accuracy              | 0     \n",
      "---------------------------------------------------------\n",
      "115 M     Trainable params\n",
      "0         Non-trainable params\n",
      "115 M     Total params\n",
      "231.179   Total estimated model params size (MB)\n",
      "/home/ubuntu/anaconda3/envs/pytorch/lib/python3.8/site-packages/pytorch_lightning/callbacks/model_checkpoint.py:623: UserWarning: Checkpoint directory /home/ubuntu/Workspace/Attentional_DTI/weights/protein_bert exists and is not empty.\n",
      "  rank_zero_warn(f\"Checkpoint directory {dirpath} exists and is not empty.\")\n"
     ]
    },
    {
     "data": {
      "application/vnd.jupyter.widget-view+json": {
       "model_id": "",
       "version_major": 2,
       "version_minor": 0
      },
      "text/plain": [
       "Validation sanity check: 0it [00:00, ?it/s]"
      ]
     },
     "metadata": {},
     "output_type": "display_data"
    },
    {
     "name": "stderr",
     "output_type": "stream",
     "text": [
      "/home/ubuntu/anaconda3/envs/pytorch/lib/python3.8/site-packages/pytorch_lightning/trainer/data_loading.py:458: UserWarning: Your `val_dataloader` has `shuffle=True`,it is strongly recommended that you turn this off for val/test/predict dataloaders.\n",
      "  rank_zero_warn(\n"
     ]
    },
    {
     "data": {
      "application/vnd.jupyter.widget-view+json": {
       "model_id": "dfcc5dad15894abf9aadb0740dd28024",
       "version_major": 2,
       "version_minor": 0
      },
      "text/plain": [
       "Training: 0it [00:00, ?it/s]"
      ]
     },
     "metadata": {},
     "output_type": "display_data"
    }
   ],
   "source": [
    "import torchmetrics\n",
    "import pytorch_lightning as pl\n",
    "from transformers import LongformerConfig, LongformerForMaskedLM\n",
    "from pytorch_lightning.callbacks import ModelCheckpoint, EarlyStopping\n",
    "\n",
    "config = LongformerConfig(\n",
    "    vocab_size=len(fast_tokenizer.vocab),\n",
    "    hidden_size=768,\n",
    "    intermediate_size=3072,\n",
    "    max_position_embeddings=1024 + 2,\n",
    "    num_hidden_layers=12,\n",
    "    num_attention_heads=12\n",
    ")\n",
    "\n",
    "\n",
    "class Bert(pl.LightningModule):\n",
    "    def __init__(self, config):\n",
    "        super().__init__()\n",
    "        self.save_hyperparameters()\n",
    "        self.model = LongformerForMaskedLM(config)\n",
    "        \n",
    "        self.train_accuracy = torchmetrics.Accuracy()\n",
    "        self.valid_accuracy = torchmetrics.Accuracy()\n",
    "        self.test_accuracy = torchmetrics.Accuracy()\n",
    "        \n",
    "        \n",
    "    def forward(self, input_ids, labels):\n",
    "        return self.model(input_ids=input_ids, attention_mask=None, labels=labels)\n",
    "\n",
    "       \n",
    "    def training_step(self, batch, batch_idx):\n",
    "        input_ids = batch['input_ids']\n",
    "        labels = batch['labels']\n",
    "        \n",
    "        output = self(input_ids, labels)\n",
    "\n",
    "        loss = output.loss\n",
    "        logits = output.logits\n",
    "\n",
    "        preds = logits.argmax(dim=-1)\n",
    "        \n",
    "        self.log('train_loss', float(loss), on_step=True, on_epoch=True, prog_bar=True)\n",
    "        self.log(\"train_accuracy\", self.train_accuracy(preds[labels > 0], labels[labels > 0]), on_step=False, on_epoch=True, prog_bar=True, logger=True)\n",
    "        \n",
    "        torch.cuda.empty_cache()\n",
    "        \n",
    "        return loss\n",
    "\n",
    "    \n",
    "    def validation_step(self, batch, batch_idx):\n",
    "        input_ids = batch['input_ids']\n",
    "        labels = batch['labels']\n",
    "        \n",
    "        output = self(input_ids, labels)\n",
    "\n",
    "        loss = output.loss\n",
    "        logits = output.logits\n",
    "\n",
    "        preds = logits.argmax(dim=-1)\n",
    "        \n",
    "        self.log('valid_loss', float(loss), on_step=False, on_epoch=True, prog_bar=True)\n",
    "        self.log(\"valid_accuracy\", self.valid_accuracy(preds[labels > 0], labels[labels > 0]), on_step=False, on_epoch=True, prog_bar=True, logger=True)\n",
    "    \n",
    "        torch.cuda.empty_cache()\n",
    "    \n",
    "    \n",
    "    def test_step(self, batch, batch_idx):\n",
    "        input_ids = batch['input_ids']\n",
    "        labels = batch['labels']\n",
    "        \n",
    "        output = self(input_ids, labels)\n",
    "\n",
    "        loss = output.loss\n",
    "        logits = output.logits\n",
    "\n",
    "        preds = logits.argmax(dim=-1)\n",
    "        \n",
    "        self.log('test_loss', float(loss), on_step=False, on_epoch=True, prog_bar=True)\n",
    "        self.log(\"test_accuracy\", self.test_accuracy(preds[labels > 0], labels[labels > 0]), on_step=False, on_epoch=True, prog_bar=True, logger=True)\n",
    "    \n",
    "        torch.cuda.empty_cache()\n",
    "    \n",
    "    \n",
    "    def configure_optimizers(self):\n",
    "        optimizer = torch.optim.AdamW(self.parameters(), lr=1e-4)\n",
    "        scheduler = torch.optim.lr_scheduler.CosineAnnealingWarmRestarts(optimizer, T_0=10)\n",
    "    \n",
    "        return {\"optimizer\": optimizer, \"lr_scheduler\": scheduler}\n",
    "    \n",
    "    \n",
    "model = Bert(config)\n",
    "callbacks = [\n",
    "    ModelCheckpoint(monitor='valid_loss', save_top_k=10, dirpath='weights/protein_bert', filename='protein_bert-{epoch:02d}-{valid_loss:.4f}'),\n",
    "#     EarlyStopping('valid_loss', patience=20)\n",
    "]\n",
    "\n",
    "trainer = pl.Trainer(max_epochs=1000, gpus=1, enable_progress_bar=True, callbacks=callbacks, precision=16)\n",
    "trainer.fit(model, train_loader, valid_loader)"
   ]
  },
  {
   "cell_type": "code",
   "execution_count": 7,
   "id": "bae4befc",
   "metadata": {},
   "outputs": [],
   "source": [
    "# model = Bert(config).load_from_checkpoint(\"weights/protein_bert/protein_bert-epoch=896-valid_loss=0.0995.ckpt\")\n",
    "# trainer.test(model, test_loader)"
   ]
  },
  {
   "cell_type": "code",
   "execution_count": null,
   "id": "5982c50c",
   "metadata": {},
   "outputs": [],
   "source": []
  }
 ],
 "metadata": {
  "kernelspec": {
   "display_name": "Python 3 (ipykernel)",
   "language": "python",
   "name": "python3"
  },
  "language_info": {
   "codemirror_mode": {
    "name": "ipython",
    "version": 3
   },
   "file_extension": ".py",
   "mimetype": "text/x-python",
   "name": "python",
   "nbconvert_exporter": "python",
   "pygments_lexer": "ipython3",
   "version": "3.8.12"
  }
 },
 "nbformat": 4,
 "nbformat_minor": 5
}
