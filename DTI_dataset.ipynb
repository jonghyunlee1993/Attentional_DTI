{
 "cells": [
  {
   "cell_type": "code",
   "execution_count": 1,
   "metadata": {
    "scrolled": false
   },
   "outputs": [
    {
     "name": "stderr",
     "output_type": "stream",
     "text": [
      "Downloading...\n",
      "100%|██████████| 26.3M/26.3M [00:03<00:00, 8.70MiB/s]\n",
      "Loading...\n",
      "Done!\n",
      "To log space...\n",
      "Downloading...\n",
      "100%|██████████| 97.2M/97.2M [00:09<00:00, 10.3MiB/s]\n",
      "Loading...\n",
      "Done!\n",
      "To log space...\n",
      "Downloading...\n",
      "100%|██████████| 54.4M/54.4M [00:05<00:00, 9.14MiB/s]\n",
      "Loading...\n",
      "Done!\n",
      "To log space...\n"
     ]
    }
   ],
   "source": [
    "import pandas as pd\n",
    "import seaborn as sns\n",
    "from rdkit import Chem\n",
    "from tdc.multi_pred import DTI\n",
    "\n",
    "davis = DTI(name=\"DAVIS\")\n",
    "davis.convert_to_log(form=\"binding\")\n",
    "davis_split = davis.get_split()\n",
    "\n",
    "kiba = DTI(name=\"KIBA\")\n",
    "kiba.convert_to_log(form=\"binding\")\n",
    "kiba_split = kiba.get_split()\n",
    "\n",
    "binding_db = DTI(name = 'BindingDB_Kd')\n",
    "binding_db.convert_to_log(form=\"binding\")\n",
    "binding_db_split = binding_db.get_split()"
   ]
  },
  {
   "cell_type": "code",
   "execution_count": 2,
   "metadata": {},
   "outputs": [
    {
     "name": "stdout",
     "output_type": "stream",
     "text": [
      "train: (138552, 5) valid: (19793, 5) test: (39586, 5)\n"
     ]
    }
   ],
   "source": [
    "train_df = pd.concat([davis_split[\"train\"], kiba_split[\"train\"], binding_db_split[\"train\"]], axis=0).reset_index(drop=True)\n",
    "valid_df = pd.concat([davis_split[\"valid\"], kiba_split[\"valid\"], binding_db_split[\"valid\"]], axis=0).reset_index(drop=True)\n",
    "test_df = pd.concat([davis_split[\"test\"], kiba_split[\"test\"], binding_db_split[\"test\"]], axis=0).reset_index(drop=True)\n",
    "\n",
    "print(f\"train: {train_df.shape} valid: {valid_df.shape} test: {test_df.shape}\")"
   ]
  },
  {
   "cell_type": "code",
   "execution_count": 3,
   "metadata": {},
   "outputs": [
    {
     "data": {
      "text/plain": [
       "'Cc1[nH]nc2ccc(-c3cncc(OCC(N)Cc4ccccc4)c3)cc12'"
      ]
     },
     "execution_count": 3,
     "metadata": {},
     "output_type": "execute_result"
    }
   ],
   "source": [
    "temp = train_df.iloc[0]\n",
    "sample = temp.Drug\n",
    "sample"
   ]
  },
  {
   "cell_type": "code",
   "execution_count": 10,
   "metadata": {},
   "outputs": [
    {
     "data": {
      "text/plain": [
       "'CC1=C2C=C(C3=CN=CC(OCC(N)CC4=CC=CC=C4)=C3)C=CC2=NN1'"
      ]
     },
     "execution_count": 10,
     "metadata": {},
     "output_type": "execute_result"
    }
   ],
   "source": [
    "from rdkit import Chem\n",
    "\n",
    "Chem.MolToSmiles(Chem.MolFromSmiles(sample), isomericSmiles=False, kekuleSmiles=True)"
   ]
  },
  {
   "cell_type": "code",
   "execution_count": 11,
   "metadata": {},
   "outputs": [],
   "source": [
    "from rdkit import Chem\n",
    "\n",
    "train_df.Drug = train_df.Drug.map(lambda x: Chem.MolToSmiles(Chem.MolFromSmiles(x), isomericSmiles=False, kekuleSmiles=True))\n",
    "valid_df.Drug = valid_df.Drug.map(lambda x: Chem.MolToSmiles(Chem.MolFromSmiles(x), isomericSmiles=False, kekuleSmiles=True))\n",
    "test_df.Drug = test_df.Drug.map(lambda x: Chem.MolToSmiles(Chem.MolFromSmiles(x), isomericSmiles=False, kekuleSmiles=True))"
   ]
  },
  {
   "cell_type": "code",
   "execution_count": 13,
   "metadata": {},
   "outputs": [],
   "source": [
    "import pickle \n",
    "\n",
    "with open(\"./data/DTI/DTI_train.pickle\", \"wb\") as f:\n",
    "    pickle.dump(train_df, f)\n",
    "    \n",
    "with open(\"./data/DTI/DTI_valid.pickle\", \"wb\") as f:\n",
    "    pickle.dump(valid_df, f)\n",
    "    \n",
    "with open(\"./data/DTI/DTI_test.pickle\", \"wb\") as f:\n",
    "    pickle.dump(test_df, f)"
   ]
  },
  {
   "cell_type": "code",
   "execution_count": 12,
   "metadata": {
    "scrolled": true
   },
   "outputs": [
    {
     "data": {
      "text/html": [
       "<div>\n",
       "<style scoped>\n",
       "    .dataframe tbody tr th:only-of-type {\n",
       "        vertical-align: middle;\n",
       "    }\n",
       "\n",
       "    .dataframe tbody tr th {\n",
       "        vertical-align: top;\n",
       "    }\n",
       "\n",
       "    .dataframe thead th {\n",
       "        text-align: right;\n",
       "    }\n",
       "</style>\n",
       "<table border=\"1\" class=\"dataframe\">\n",
       "  <thead>\n",
       "    <tr style=\"text-align: right;\">\n",
       "      <th></th>\n",
       "      <th>Drug_ID</th>\n",
       "      <th>Drug</th>\n",
       "      <th>Target_ID</th>\n",
       "      <th>Target</th>\n",
       "      <th>Y</th>\n",
       "    </tr>\n",
       "  </thead>\n",
       "  <tbody>\n",
       "    <tr>\n",
       "      <th>0</th>\n",
       "      <td>11314340</td>\n",
       "      <td>CC1=C2C=C(C3=CN=CC(OCC(N)CC4=CC=CC=C4)=C3)C=CC...</td>\n",
       "      <td>ABL1p</td>\n",
       "      <td>PFWKILNPLLERGTYYYFMGQQPGKVLGDQRRPSLPALHFIKGAGK...</td>\n",
       "      <td>4.999996</td>\n",
       "    </tr>\n",
       "    <tr>\n",
       "      <th>1</th>\n",
       "      <td>11314340</td>\n",
       "      <td>CC1=C2C=C(C3=CN=CC(OCC(N)CC4=CC=CC=C4)=C3)C=CC...</td>\n",
       "      <td>ABL2</td>\n",
       "      <td>MVLGTVLLPPNSYGRDQDTSLCCLCTEASESALPDLTDHFASCVED...</td>\n",
       "      <td>4.999996</td>\n",
       "    </tr>\n",
       "    <tr>\n",
       "      <th>2</th>\n",
       "      <td>11314340</td>\n",
       "      <td>CC1=C2C=C(C3=CN=CC(OCC(N)CC4=CC=CC=C4)=C3)C=CC...</td>\n",
       "      <td>ACVR1B</td>\n",
       "      <td>MAESAGASSFFPLVVLLLAGSGGSGPRGVQALLCACTSCLQANYTC...</td>\n",
       "      <td>4.999996</td>\n",
       "    </tr>\n",
       "    <tr>\n",
       "      <th>3</th>\n",
       "      <td>11314340</td>\n",
       "      <td>CC1=C2C=C(C3=CN=CC(OCC(N)CC4=CC=CC=C4)=C3)C=CC...</td>\n",
       "      <td>ACVRL1</td>\n",
       "      <td>MTLGSPRKGLLMLLMALVTQGDPVKPSRGPLVTCTCESPHCKGPTC...</td>\n",
       "      <td>4.999996</td>\n",
       "    </tr>\n",
       "    <tr>\n",
       "      <th>4</th>\n",
       "      <td>11314340</td>\n",
       "      <td>CC1=C2C=C(C3=CN=CC(OCC(N)CC4=CC=CC=C4)=C3)C=CC...</td>\n",
       "      <td>ADCK3</td>\n",
       "      <td>MAAILGDTIMVAKGLVKLTQAAVETHLQHLGIGGELIMAARALQST...</td>\n",
       "      <td>4.999996</td>\n",
       "    </tr>\n",
       "    <tr>\n",
       "      <th>...</th>\n",
       "      <td>...</td>\n",
       "      <td>...</td>\n",
       "      <td>...</td>\n",
       "      <td>...</td>\n",
       "      <td>...</td>\n",
       "    </tr>\n",
       "    <tr>\n",
       "      <th>138547</th>\n",
       "      <td>53358942.0</td>\n",
       "      <td>COC1=CC(C(=O)O)=CC=C1NC(=O)C1NC(CC(C)(C)C)C(C#...</td>\n",
       "      <td>NaN</td>\n",
       "      <td>MCNTNMSVPTDGAVTTSQIPASEQETLVRPKPLLLKLLKSVGAQKD...</td>\n",
       "      <td>9.602060</td>\n",
       "    </tr>\n",
       "    <tr>\n",
       "      <th>138548</th>\n",
       "      <td>53476877.0</td>\n",
       "      <td>CC(C)(C)CC1NC(C(=O)NC2CCC(O)CC2)C(C2=CC=CC(Cl)...</td>\n",
       "      <td>NaN</td>\n",
       "      <td>MCNTNMSVPTDGAVTTSQIPASEQETLVRPKPLLLKLLKSVGAQKD...</td>\n",
       "      <td>8.552842</td>\n",
       "    </tr>\n",
       "    <tr>\n",
       "      <th>138549</th>\n",
       "      <td>58573469.0</td>\n",
       "      <td>CC(C)C(CS(=O)(=O)C(C)C)N1C(=O)C(C)(CC(=O)O)CC(...</td>\n",
       "      <td>NaN</td>\n",
       "      <td>MCNTNMSVPTDGAVTTSQIPASEQETLVRPKPLLLKLLKSVGAQKD...</td>\n",
       "      <td>9.838632</td>\n",
       "    </tr>\n",
       "    <tr>\n",
       "      <th>138550</th>\n",
       "      <td>113557.0</td>\n",
       "      <td>CCCCCCCOC1OC(CO)C(O)C(O)C1O</td>\n",
       "      <td>P08191</td>\n",
       "      <td>MKRVITLFAVLLMGWSVNAWSFACKTANGTAIPIGGGSANVYVNLA...</td>\n",
       "      <td>7.767004</td>\n",
       "    </tr>\n",
       "    <tr>\n",
       "      <th>138551</th>\n",
       "      <td>113557.0</td>\n",
       "      <td>CCCCCCCOC1OC(CO)C(O)C(O)C1O</td>\n",
       "      <td>P08191</td>\n",
       "      <td>MKRVITLFAVLLMGWSVNAWSFACKTANGTAIPIGGGSANVYVNLA...</td>\n",
       "      <td>7.718967</td>\n",
       "    </tr>\n",
       "  </tbody>\n",
       "</table>\n",
       "<p>138552 rows × 5 columns</p>\n",
       "</div>"
      ],
      "text/plain": [
       "           Drug_ID                                               Drug  \\\n",
       "0         11314340  CC1=C2C=C(C3=CN=CC(OCC(N)CC4=CC=CC=C4)=C3)C=CC...   \n",
       "1         11314340  CC1=C2C=C(C3=CN=CC(OCC(N)CC4=CC=CC=C4)=C3)C=CC...   \n",
       "2         11314340  CC1=C2C=C(C3=CN=CC(OCC(N)CC4=CC=CC=C4)=C3)C=CC...   \n",
       "3         11314340  CC1=C2C=C(C3=CN=CC(OCC(N)CC4=CC=CC=C4)=C3)C=CC...   \n",
       "4         11314340  CC1=C2C=C(C3=CN=CC(OCC(N)CC4=CC=CC=C4)=C3)C=CC...   \n",
       "...            ...                                                ...   \n",
       "138547  53358942.0  COC1=CC(C(=O)O)=CC=C1NC(=O)C1NC(CC(C)(C)C)C(C#...   \n",
       "138548  53476877.0  CC(C)(C)CC1NC(C(=O)NC2CCC(O)CC2)C(C2=CC=CC(Cl)...   \n",
       "138549  58573469.0  CC(C)C(CS(=O)(=O)C(C)C)N1C(=O)C(C)(CC(=O)O)CC(...   \n",
       "138550    113557.0                        CCCCCCCOC1OC(CO)C(O)C(O)C1O   \n",
       "138551    113557.0                        CCCCCCCOC1OC(CO)C(O)C(O)C1O   \n",
       "\n",
       "       Target_ID                                             Target         Y  \n",
       "0          ABL1p  PFWKILNPLLERGTYYYFMGQQPGKVLGDQRRPSLPALHFIKGAGK...  4.999996  \n",
       "1           ABL2  MVLGTVLLPPNSYGRDQDTSLCCLCTEASESALPDLTDHFASCVED...  4.999996  \n",
       "2         ACVR1B  MAESAGASSFFPLVVLLLAGSGGSGPRGVQALLCACTSCLQANYTC...  4.999996  \n",
       "3         ACVRL1  MTLGSPRKGLLMLLMALVTQGDPVKPSRGPLVTCTCESPHCKGPTC...  4.999996  \n",
       "4          ADCK3  MAAILGDTIMVAKGLVKLTQAAVETHLQHLGIGGELIMAARALQST...  4.999996  \n",
       "...          ...                                                ...       ...  \n",
       "138547       NaN  MCNTNMSVPTDGAVTTSQIPASEQETLVRPKPLLLKLLKSVGAQKD...  9.602060  \n",
       "138548       NaN  MCNTNMSVPTDGAVTTSQIPASEQETLVRPKPLLLKLLKSVGAQKD...  8.552842  \n",
       "138549       NaN  MCNTNMSVPTDGAVTTSQIPASEQETLVRPKPLLLKLLKSVGAQKD...  9.838632  \n",
       "138550    P08191  MKRVITLFAVLLMGWSVNAWSFACKTANGTAIPIGGGSANVYVNLA...  7.767004  \n",
       "138551    P08191  MKRVITLFAVLLMGWSVNAWSFACKTANGTAIPIGGGSANVYVNLA...  7.718967  \n",
       "\n",
       "[138552 rows x 5 columns]"
      ]
     },
     "execution_count": 12,
     "metadata": {},
     "output_type": "execute_result"
    }
   ],
   "source": [
    "train_df"
   ]
  },
  {
   "cell_type": "code",
   "execution_count": null,
   "metadata": {},
   "outputs": [],
   "source": []
  }
 ],
 "metadata": {
  "kernelspec": {
   "display_name": "Python 3",
   "language": "python",
   "name": "python3"
  },
  "language_info": {
   "codemirror_mode": {
    "name": "ipython",
    "version": 3
   },
   "file_extension": ".py",
   "mimetype": "text/x-python",
   "name": "python",
   "nbconvert_exporter": "python",
   "pygments_lexer": "ipython3",
   "version": "3.8.0"
  }
 },
 "nbformat": 4,
 "nbformat_minor": 2
}
