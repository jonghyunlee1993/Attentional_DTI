{
 "cells": [
  {
   "cell_type": "code",
   "execution_count": 1,
   "metadata": {
    "scrolled": false
   },
   "outputs": [
    {
     "name": "stderr",
     "output_type": "stream",
     "text": [
      "Found local copy...\n",
      "Loading...\n",
      "Done!\n",
      "To log space...\n"
     ]
    }
   ],
   "source": [
    "import pandas as pd\n",
    "import seaborn as sns\n",
    "from rdkit import Chem\n",
    "from tdc.multi_pred import DTI\n",
    "\n",
    "davis = DTI(name=\"DAVIS\")\n",
    "davis.convert_to_log(form=\"binding\")\n",
    "davis_split = davis.get_split()\n",
    "\n",
    "# kiba = DTI(name=\"KIBA\")\n",
    "# kiba.convert_to_log(form=\"binding\")\n",
    "# kiba_split = kiba.get_split()\n",
    "\n",
    "# binding_db = DTI(name = 'BindingDB_Kd')\n",
    "# binding_db.convert_to_log(form=\"binding\")\n",
    "# binding_db_split = binding_db.get_split()"
   ]
  },
  {
   "cell_type": "code",
   "execution_count": 2,
   "metadata": {},
   "outputs": [
    {
     "name": "stdout",
     "output_type": "stream",
     "text": [
      "train: (19335, 5) valid: (2762, 5) test: (5524, 5)\n"
     ]
    }
   ],
   "source": [
    "# train_df = pd.concat([davis_split[\"train\"], kiba_split[\"train\"], binding_db_split[\"train\"]], axis=0).reset_index(drop=True)\n",
    "# valid_df = pd.concat([davis_split[\"valid\"], kiba_split[\"valid\"], binding_db_split[\"valid\"]], axis=0).reset_index(drop=True)\n",
    "# test_df = pd.concat([davis_split[\"test\"], kiba_split[\"test\"], binding_db_split[\"test\"]], axis=0).reset_index(drop=True)\n",
    "\n",
    "# train_df = pd.concat([davis_split[\"train\"], binding_db_split[\"train\"]], axis=0).reset_index(drop=True)\n",
    "# valid_df = pd.concat([davis_split[\"valid\"], binding_db_split[\"valid\"]], axis=0).reset_index(drop=True)\n",
    "# test_df = pd.concat([davis_split[\"test\"], binding_db_split[\"test\"]], axis=0).reset_index(drop=True)\n",
    "\n",
    "train_df = davis_split[\"train\"]\n",
    "valid_df = davis_split[\"valid\"]\n",
    "test_df = davis_split[\"test\"]\n",
    "\n",
    "print(f\"train: {train_df.shape} valid: {valid_df.shape} test: {test_df.shape}\")"
   ]
  },
  {
   "cell_type": "code",
   "execution_count": 5,
   "metadata": {},
   "outputs": [],
   "source": [
    "from rdkit import Chem\n",
    "\n",
    "train_df.Drug = train_df.Drug.map(lambda x: Chem.MolToSmiles(Chem.MolFromSmiles(x), True, True))\n",
    "valid_df.Drug = valid_df.Drug.map(lambda x: Chem.MolToSmiles(Chem.MolFromSmiles(x), True, True))\n",
    "test_df.Drug = test_df.Drug.map(lambda x: Chem.MolToSmiles(Chem.MolFromSmiles(x), True, True))"
   ]
  },
  {
   "cell_type": "code",
   "execution_count": 6,
   "metadata": {},
   "outputs": [
    {
     "data": {
      "text/html": [
       "<div>\n",
       "<style scoped>\n",
       "    .dataframe tbody tr th:only-of-type {\n",
       "        vertical-align: middle;\n",
       "    }\n",
       "\n",
       "    .dataframe tbody tr th {\n",
       "        vertical-align: top;\n",
       "    }\n",
       "\n",
       "    .dataframe thead th {\n",
       "        text-align: right;\n",
       "    }\n",
       "</style>\n",
       "<table border=\"1\" class=\"dataframe\">\n",
       "  <thead>\n",
       "    <tr style=\"text-align: right;\">\n",
       "      <th></th>\n",
       "      <th>Drug_ID</th>\n",
       "      <th>Drug</th>\n",
       "      <th>Target_ID</th>\n",
       "      <th>Target</th>\n",
       "      <th>Y</th>\n",
       "    </tr>\n",
       "  </thead>\n",
       "  <tbody>\n",
       "    <tr>\n",
       "      <th>0</th>\n",
       "      <td>11314340</td>\n",
       "      <td>CC1=C2C=C(C3=CN=CC(OCC(N)CC4=CC=CC=C4)=C3)C=CC...</td>\n",
       "      <td>ABL1p</td>\n",
       "      <td>PFWKILNPLLERGTYYYFMGQQPGKVLGDQRRPSLPALHFIKGAGK...</td>\n",
       "      <td>4.999996</td>\n",
       "    </tr>\n",
       "    <tr>\n",
       "      <th>1</th>\n",
       "      <td>11314340</td>\n",
       "      <td>CC1=C2C=C(C3=CN=CC(OCC(N)CC4=CC=CC=C4)=C3)C=CC...</td>\n",
       "      <td>ABL2</td>\n",
       "      <td>MVLGTVLLPPNSYGRDQDTSLCCLCTEASESALPDLTDHFASCVED...</td>\n",
       "      <td>4.999996</td>\n",
       "    </tr>\n",
       "    <tr>\n",
       "      <th>2</th>\n",
       "      <td>11314340</td>\n",
       "      <td>CC1=C2C=C(C3=CN=CC(OCC(N)CC4=CC=CC=C4)=C3)C=CC...</td>\n",
       "      <td>ACVR1B</td>\n",
       "      <td>MAESAGASSFFPLVVLLLAGSGGSGPRGVQALLCACTSCLQANYTC...</td>\n",
       "      <td>4.999996</td>\n",
       "    </tr>\n",
       "    <tr>\n",
       "      <th>3</th>\n",
       "      <td>11314340</td>\n",
       "      <td>CC1=C2C=C(C3=CN=CC(OCC(N)CC4=CC=CC=C4)=C3)C=CC...</td>\n",
       "      <td>ACVRL1</td>\n",
       "      <td>MTLGSPRKGLLMLLMALVTQGDPVKPSRGPLVTCTCESPHCKGPTC...</td>\n",
       "      <td>4.999996</td>\n",
       "    </tr>\n",
       "    <tr>\n",
       "      <th>4</th>\n",
       "      <td>11314340</td>\n",
       "      <td>CC1=C2C=C(C3=CN=CC(OCC(N)CC4=CC=CC=C4)=C3)C=CC...</td>\n",
       "      <td>ADCK3</td>\n",
       "      <td>MAAILGDTIMVAKGLVKLTQAAVETHLQHLGIGGELIMAARALQST...</td>\n",
       "      <td>4.999996</td>\n",
       "    </tr>\n",
       "    <tr>\n",
       "      <th>...</th>\n",
       "      <td>...</td>\n",
       "      <td>...</td>\n",
       "      <td>...</td>\n",
       "      <td>...</td>\n",
       "      <td>...</td>\n",
       "    </tr>\n",
       "    <tr>\n",
       "      <th>19330</th>\n",
       "      <td>151194</td>\n",
       "      <td>ClC1=CC=C(NC2=NN=C(CC3=CC=NC=C3)C3=CC=CC=C23)C=C1</td>\n",
       "      <td>YANK1</td>\n",
       "      <td>MGANTSRKPPVFDENEDVNFDHFEILRAIGKGSFGKVCIVQKNDTK...</td>\n",
       "      <td>4.999996</td>\n",
       "    </tr>\n",
       "    <tr>\n",
       "      <th>19331</th>\n",
       "      <td>151194</td>\n",
       "      <td>ClC1=CC=C(NC2=NN=C(CC3=CC=NC=C3)C3=CC=CC=C23)C=C1</td>\n",
       "      <td>YANK3</td>\n",
       "      <td>MRSGAERRGSSAAASPGSPPPGRARPAGSDAPSALPPPAAGQPRAR...</td>\n",
       "      <td>4.999996</td>\n",
       "    </tr>\n",
       "    <tr>\n",
       "      <th>19332</th>\n",
       "      <td>151194</td>\n",
       "      <td>ClC1=CC=C(NC2=NN=C(CC3=CC=NC=C3)C3=CC=CC=C23)C=C1</td>\n",
       "      <td>YSK1</td>\n",
       "      <td>MAHLRGFANQHSRVDPEELFTKLDRIGKGSFGEVYKGIDNHTKEVV...</td>\n",
       "      <td>4.999996</td>\n",
       "    </tr>\n",
       "    <tr>\n",
       "      <th>19333</th>\n",
       "      <td>151194</td>\n",
       "      <td>ClC1=CC=C(NC2=NN=C(CC3=CC=NC=C3)C3=CC=CC=C23)C=C1</td>\n",
       "      <td>ZAK</td>\n",
       "      <td>MSSLGASFVQIKFDDLQFFENCGGGSFGSVYRAKWISQDKEVAVKK...</td>\n",
       "      <td>5.356537</td>\n",
       "    </tr>\n",
       "    <tr>\n",
       "      <th>19334</th>\n",
       "      <td>151194</td>\n",
       "      <td>ClC1=CC=C(NC2=NN=C(CC3=CC=NC=C3)C3=CC=CC=C23)C=C1</td>\n",
       "      <td>ZAP70</td>\n",
       "      <td>MPDPAAHLPFFYGSISRAEAEEHLKLAGMADGLFLLRQCLRSLGGY...</td>\n",
       "      <td>4.999996</td>\n",
       "    </tr>\n",
       "  </tbody>\n",
       "</table>\n",
       "<p>19335 rows × 5 columns</p>\n",
       "</div>"
      ],
      "text/plain": [
       "        Drug_ID                                               Drug Target_ID  \\\n",
       "0      11314340  CC1=C2C=C(C3=CN=CC(OCC(N)CC4=CC=CC=C4)=C3)C=CC...     ABL1p   \n",
       "1      11314340  CC1=C2C=C(C3=CN=CC(OCC(N)CC4=CC=CC=C4)=C3)C=CC...      ABL2   \n",
       "2      11314340  CC1=C2C=C(C3=CN=CC(OCC(N)CC4=CC=CC=C4)=C3)C=CC...    ACVR1B   \n",
       "3      11314340  CC1=C2C=C(C3=CN=CC(OCC(N)CC4=CC=CC=C4)=C3)C=CC...    ACVRL1   \n",
       "4      11314340  CC1=C2C=C(C3=CN=CC(OCC(N)CC4=CC=CC=C4)=C3)C=CC...     ADCK3   \n",
       "...         ...                                                ...       ...   \n",
       "19330    151194  ClC1=CC=C(NC2=NN=C(CC3=CC=NC=C3)C3=CC=CC=C23)C=C1     YANK1   \n",
       "19331    151194  ClC1=CC=C(NC2=NN=C(CC3=CC=NC=C3)C3=CC=CC=C23)C=C1     YANK3   \n",
       "19332    151194  ClC1=CC=C(NC2=NN=C(CC3=CC=NC=C3)C3=CC=CC=C23)C=C1      YSK1   \n",
       "19333    151194  ClC1=CC=C(NC2=NN=C(CC3=CC=NC=C3)C3=CC=CC=C23)C=C1       ZAK   \n",
       "19334    151194  ClC1=CC=C(NC2=NN=C(CC3=CC=NC=C3)C3=CC=CC=C23)C=C1     ZAP70   \n",
       "\n",
       "                                                  Target         Y  \n",
       "0      PFWKILNPLLERGTYYYFMGQQPGKVLGDQRRPSLPALHFIKGAGK...  4.999996  \n",
       "1      MVLGTVLLPPNSYGRDQDTSLCCLCTEASESALPDLTDHFASCVED...  4.999996  \n",
       "2      MAESAGASSFFPLVVLLLAGSGGSGPRGVQALLCACTSCLQANYTC...  4.999996  \n",
       "3      MTLGSPRKGLLMLLMALVTQGDPVKPSRGPLVTCTCESPHCKGPTC...  4.999996  \n",
       "4      MAAILGDTIMVAKGLVKLTQAAVETHLQHLGIGGELIMAARALQST...  4.999996  \n",
       "...                                                  ...       ...  \n",
       "19330  MGANTSRKPPVFDENEDVNFDHFEILRAIGKGSFGKVCIVQKNDTK...  4.999996  \n",
       "19331  MRSGAERRGSSAAASPGSPPPGRARPAGSDAPSALPPPAAGQPRAR...  4.999996  \n",
       "19332  MAHLRGFANQHSRVDPEELFTKLDRIGKGSFGEVYKGIDNHTKEVV...  4.999996  \n",
       "19333  MSSLGASFVQIKFDDLQFFENCGGGSFGSVYRAKWISQDKEVAVKK...  5.356537  \n",
       "19334  MPDPAAHLPFFYGSISRAEAEEHLKLAGMADGLFLLRQCLRSLGGY...  4.999996  \n",
       "\n",
       "[19335 rows x 5 columns]"
      ]
     },
     "execution_count": 6,
     "metadata": {},
     "output_type": "execute_result"
    }
   ],
   "source": [
    "train_df"
   ]
  },
  {
   "cell_type": "code",
   "execution_count": 6,
   "metadata": {},
   "outputs": [],
   "source": [
    "import pickle \n",
    "\n",
    "with open(\"./data/DTI/DTI_train.pickle\", \"wb\") as f:\n",
    "    pickle.dump(train_df, f)\n",
    "    \n",
    "with open(\"./data/DTI/DTI_valid.pickle\", \"wb\") as f:\n",
    "    pickle.dump(valid_df, f)\n",
    "    \n",
    "with open(\"./data/DTI/DTI_test.pickle\", \"wb\") as f:\n",
    "    pickle.dump(test_df, f)"
   ]
  },
  {
   "cell_type": "code",
   "execution_count": null,
   "metadata": {},
   "outputs": [],
   "source": []
  }
 ],
 "metadata": {
  "kernelspec": {
   "display_name": "Python 3",
   "language": "python",
   "name": "python3"
  },
  "language_info": {
   "codemirror_mode": {
    "name": "ipython",
    "version": 3
   },
   "file_extension": ".py",
   "mimetype": "text/x-python",
   "name": "python",
   "nbconvert_exporter": "python",
   "pygments_lexer": "ipython3",
   "version": "3.8.0"
  }
 },
 "nbformat": 4,
 "nbformat_minor": 2
}
