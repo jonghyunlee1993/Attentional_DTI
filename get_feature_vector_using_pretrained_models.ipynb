{
 "cells": [
  {
   "cell_type": "code",
   "execution_count": 1,
   "id": "0b3825e4",
   "metadata": {},
   "outputs": [
    {
     "name": "stderr",
     "output_type": "stream",
     "text": [
      "Found local copy...\n",
      "Loading...\n",
      "Done!\n",
      "To log space...\n"
     ]
    }
   ],
   "source": [
    "import pandas as pd\n",
    "from tqdm import tqdm\n",
    "from rdkit import Chem\n",
    "from rdkit.Chem.QED import qed\n",
    "from tdc.multi_pred import DTI\n",
    "\n",
    "from rdkit import RDLogger \n",
    "RDLogger.DisableLog('rdApp.*')\n",
    "\n",
    "import warnings\n",
    "warnings.filterwarnings(action='ignore')\n",
    "\n",
    "\n",
    "# binding_db = DTI(name=\"BindingDB_Kd\")\n",
    "# binding_db.convert_to_log(form='binding')\n",
    "# binding_db_split = binding_db.get_split()\n",
    "\n",
    "# davis = DTI(name=\"Davis\")\n",
    "# davis.convert_to_log(form='binding')\n",
    "# davis_split = davis.get_split()\n",
    "\n",
    "kiba = DTI(name=\"KIBA\")\n",
    "kiba.convert_to_log(form='binding')\n",
    "kiba_split = kiba.get_split()"
   ]
  },
  {
   "cell_type": "code",
   "execution_count": 2,
   "id": "99e3fa33",
   "metadata": {},
   "outputs": [],
   "source": [
    "def canonicalize_smiles(df):\n",
    "    for i, smiles in enumerate(df['Drug']):\n",
    "        mol = Chem.MolFromSmiles(smiles)\n",
    "        canonical_smiles = Chem.MolToSmiles(mol)\n",
    "        \n",
    "        df.loc[i, 'Drug'] = canonical_smiles\n",
    "        \n",
    "    return df\n",
    "\n",
    "\n",
    "# binding_db_split['train'] = canonicalize_smiles(binding_db_split['train'])\n",
    "# binding_db_split['valid'] = canonicalize_smiles(binding_db_split['valid'])\n",
    "# binding_db_split['test'] = canonicalize_smiles(binding_db_split['test'])\n",
    "\n",
    "# davis_split['train'] = canonicalize_smiles(davis_split['train'])\n",
    "# davis_split['valid'] = canonicalize_smiles(davis_split['valid'])\n",
    "# davis_split['test'] = canonicalize_smiles(davis_split['test'])"
   ]
  },
  {
   "cell_type": "code",
   "execution_count": 3,
   "id": "efad45d6",
   "metadata": {
    "scrolled": true
   },
   "outputs": [
    {
     "name": "stderr",
     "output_type": "stream",
     "text": [
      "Some weights of BertModel were not initialized from the model checkpoint at weights/molecule_bert_pretrained-masking_rate_30 and are newly initialized: ['pooler.dense.weight', 'pooler.dense.bias']\n",
      "You should probably TRAIN this model on a down-stream task to be able to use it for predictions and inference.\n"
     ]
    }
   ],
   "source": [
    "from transformers import BertModel, BertTokenizer\n",
    "from transformers import PreTrainedTokenizerFast, PreTrainedTokenizer\n",
    "\n",
    "molecule_tokenizer = PreTrainedTokenizerFast(\n",
    "    tokenizer_file=\"data/drug/tokenizer_model/vocab.json\",\n",
    "    pad_token=\"[PAD]\",\n",
    "    mask_token=\"[MASK]\",\n",
    "    cls_token=\"[CLS]\",\n",
    "    sep_token=\"[SEP]\",\n",
    "    unk_token=\"[UNK]\"\n",
    ")\n",
    "molecule_bert = BertModel.from_pretrained(\"weights/molecule_bert_pretrained-masking_rate_30\", local_files_only=True).eval().to('cuda')\n",
    "\n",
    "# protein_tokenizer = BertTokenizer.from_pretrained(\"Rostlab/prot_bert\", do_lower_case=False)\n",
    "# protein_bert = BertModel.from_pretrained(\"Rostlab/prot_bert\").eval().to('cuda')\n"
   ]
  },
  {
   "cell_type": "code",
   "execution_count": 4,
   "id": "29c639f3",
   "metadata": {},
   "outputs": [
    {
     "name": "stderr",
     "output_type": "stream",
     "text": [
      "100%|█████████████████████████████████████| 82360/82360 [18:37<00:00, 73.72it/s]\n",
      "100%|█████████████████████████████████████| 11766/11766 [02:47<00:00, 70.41it/s]\n",
      "100%|█████████████████████████████████████| 23531/23531 [05:33<00:00, 70.49it/s]\n"
     ]
    }
   ],
   "source": [
    "import torch\n",
    "import numpy as np\n",
    "from transformers import DataCollatorWithPadding\n",
    "\n",
    "\n",
    "def get_molecule_feature_vectors(df, molecule_tokenizer, molecule_bert):\n",
    "    drug_pooler_output = []\n",
    "    y = []\n",
    "    \n",
    "    for i, line in tqdm(df.iterrows(), total=len(df)):\n",
    "        molecule = \" \".join(line['Drug'])\n",
    "\n",
    "        encoded_drug = molecule_tokenizer(molecule, max_length=128, truncation=True, return_tensors='pt').to(\"cuda\")\n",
    "        drug_encoder_out = molecule_bert(**encoded_drug)\n",
    "        \n",
    "        drug_pooler_output.append(drug_encoder_out.pooler_output.clone().detach().to(\"cpu\"))\n",
    "        y.append(line['Y'])\n",
    "        \n",
    "        del molecule\n",
    "        del encoded_drug\n",
    "        del drug_encoder_out\n",
    "        torch.cuda.empty_cache()\n",
    "        \n",
    "    drug_pooler_output = np.array(drug_pooler_output)\n",
    "    y = np.array(y)\n",
    "\n",
    "    return drug_pooler_output, y\n",
    "\n",
    "# train_molecule, train_y = get_molecule_feature_vectors(davis_split['train'], molecule_tokenizer, molecule_bert)\n",
    "# valid_molecule, valid_y = get_molecule_feature_vectors(davis_split['valid'], molecule_tokenizer, molecule_bert)\n",
    "# test_molecule, test_y = get_molecule_feature_vectors(davis_split['test'], molecule_tokenizer, molecule_bert)\n",
    "\n",
    "train_molecule, train_y = get_molecule_feature_vectors(kiba_split['train'], molecule_tokenizer, molecule_bert)\n",
    "valid_molecule, valid_y = get_molecule_feature_vectors(kiba_split['valid'], molecule_tokenizer, molecule_bert)\n",
    "test_molecule, test_y = get_molecule_feature_vectors(kiba_split['test'], molecule_tokenizer, molecule_bert)"
   ]
  },
  {
   "cell_type": "code",
   "execution_count": 5,
   "id": "d8beaa8b",
   "metadata": {},
   "outputs": [],
   "source": [
    "np.save(\"data/interaction/kiba/train_molecule.npy\", train_molecule)\n",
    "np.save(\"data/interaction/kiba/valid_molecule.npy\", valid_molecule)\n",
    "np.save(\"data/interaction/kiba/test_molecule.npy\", test_molecule)\n",
    "\n",
    "np.save(\"data/interaction/kiba/train_y.npy\", train_y)\n",
    "np.save(\"data/interaction/kiba/valid_y.npy\", valid_y)\n",
    "np.save(\"data/interaction/kiba/test_y.npy\", test_y)"
   ]
  },
  {
   "cell_type": "code",
   "execution_count": 7,
   "id": "4366f572",
   "metadata": {},
   "outputs": [
    {
     "data": {
      "text/plain": [
       "array([7.95078198, 7.95078198, 7.95078198, ..., 7.97477854, 7.97477854,\n",
       "       7.97477854])"
      ]
     },
     "execution_count": 7,
     "metadata": {},
     "output_type": "execute_result"
    }
   ],
   "source": [
    "temp = np.load(\"data/interaction/kiba/train_y.npy\")\n",
    "temp"
   ]
  },
  {
   "cell_type": "code",
   "execution_count": null,
   "id": "f29927c9",
   "metadata": {},
   "outputs": [
    {
     "name": "stderr",
     "output_type": "stream",
     "text": [
      " 30%|█████████▊                       | 24465/82360 [1:32:52<3:14:14,  4.97it/s]"
     ]
    }
   ],
   "source": [
    "import torch\n",
    "import numpy as np\n",
    "from transformers import DataCollatorWithPadding\n",
    "\n",
    "def get_protein_feature_vectors(df, protein_tokenizer, protein_bert):\n",
    "    target_pooler_output = []\n",
    "    y = []\n",
    "    \n",
    "    for i, line in tqdm(df.iterrows(), total=len(df)):\n",
    "        protein = \" \".join(line['Target'])\n",
    "        encoded_target = protein_tokenizer(protein, max_length=2048, truncation=True, return_tensors='pt').to(\"cuda\")\n",
    "        target_encoder_out = protein_bert(**encoded_target)\n",
    "        \n",
    "        target_pooler_output.append(target_encoder_out.pooler_output.clone().detach().to(\"cpu\"))\n",
    "        \n",
    "        del protein\n",
    "        del encoded_target\n",
    "        del target_encoder_out\n",
    "        torch.cuda.empty_cache()\n",
    "        \n",
    "    target_pooler_output = np.array(target_pooler_output)\n",
    "\n",
    "    return target_pooler_output\n",
    "\n",
    "# train_protein = get_protein_feature_vectors(davis_split['train'], protein_tokenizer, protein_bert)\n",
    "# valid_protein = get_protein_feature_vectors(davis_split['valid'], protein_tokenizer, protein_bert)\n",
    "# test_protein = get_protein_feature_vectors(davis_split['test'], protein_tokenizer, protein_bert)\n",
    "\n",
    "train_protein = get_protein_feature_vectors(kiba_split['train'], protein_tokenizer, protein_bert)\n",
    "valid_protein = get_protein_feature_vectors(kiba_split['valid'], protein_tokenizer, protein_bert)\n",
    "test_protein = get_protein_feature_vectors(kiba_split['test'], protein_tokenizer, protein_bert)"
   ]
  },
  {
   "cell_type": "code",
   "execution_count": null,
   "id": "c30f4e50",
   "metadata": {},
   "outputs": [],
   "source": [
    "np.save(\"data/interaction/kiba/train_protein.npy\", train_protein)\n",
    "np.save(\"data/interaction/kiba/valid_protein.npy\", valid_protein)\n",
    "np.save(\"data/interaction/kiba/test_protein.npy\", test_protein)"
   ]
  },
  {
   "cell_type": "markdown",
   "id": "2318c4df",
   "metadata": {},
   "source": [
    "## "
   ]
  }
 ],
 "metadata": {
  "kernelspec": {
   "display_name": "Python 3 (ipykernel)",
   "language": "python",
   "name": "python3"
  },
  "language_info": {
   "codemirror_mode": {
    "name": "ipython",
    "version": 3
   },
   "file_extension": ".py",
   "mimetype": "text/x-python",
   "name": "python",
   "nbconvert_exporter": "python",
   "pygments_lexer": "ipython3",
   "version": "3.8.12"
  }
 },
 "nbformat": 4,
 "nbformat_minor": 5
}
