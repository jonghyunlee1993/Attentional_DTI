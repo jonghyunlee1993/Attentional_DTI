{
 "cells": [
  {
   "cell_type": "code",
   "execution_count": 1,
   "id": "0b3825e4",
   "metadata": {},
   "outputs": [
    {
     "name": "stderr",
     "output_type": "stream",
     "text": [
      "Found local copy...\n",
      "Loading...\n",
      "Done!\n",
      "To log space...\n"
     ]
    }
   ],
   "source": [
    "import pandas as pd\n",
    "from tqdm import tqdm\n",
    "from rdkit import Chem\n",
    "from rdkit.Chem.QED import qed\n",
    "from tdc.multi_pred import DTI\n",
    "\n",
    "from rdkit import RDLogger \n",
    "RDLogger.DisableLog('rdApp.*')\n",
    "\n",
    "import warnings\n",
    "warnings.filterwarnings(action='ignore')\n",
    "\n",
    "# binding_db = DTI(name=\"BindingDB_Kd\")\n",
    "# binding_db.convert_to_log(form='binding')\n",
    "# binding_db_split = binding_db.get_split()\n",
    "\n",
    "davis = DTI(name=\"Davis\")\n",
    "davis.convert_to_log(form='binding')\n",
    "davis_split = davis.get_split()"
   ]
  },
  {
   "cell_type": "code",
   "execution_count": 2,
   "id": "99e3fa33",
   "metadata": {},
   "outputs": [],
   "source": [
    "def canonicalize_smiles(df):\n",
    "    for i, smiles in enumerate(df['Drug']):\n",
    "        mol = Chem.MolFromSmiles(smiles)\n",
    "        canonical_smiles = Chem.MolToSmiles(mol)\n",
    "        \n",
    "        df.loc[i, 'Drug'] = canonical_smiles\n",
    "        \n",
    "    return df\n",
    "\n",
    "\n",
    "# binding_db_split['train'] = canonicalize_smiles(binding_db_split['train'])\n",
    "# binding_db_split['valid'] = canonicalize_smiles(binding_db_split['valid'])\n",
    "# binding_db_split['test'] = canonicalize_smiles(binding_db_split['test'])\n",
    "\n",
    "davis_split['train'] = canonicalize_smiles(davis_split['train'])\n",
    "davis_split['valid'] = canonicalize_smiles(davis_split['valid'])\n",
    "davis_split['test'] = canonicalize_smiles(davis_split['test'])"
   ]
  },
  {
   "cell_type": "code",
   "execution_count": 3,
   "id": "efad45d6",
   "metadata": {
    "scrolled": true
   },
   "outputs": [
    {
     "name": "stderr",
     "output_type": "stream",
     "text": [
      "Some weights of the model checkpoint at weights/MoleculeBERT_pretrained were not used when initializing BertModel: ['cls.predictions.decoder.bias', 'cls.predictions.transform.dense.bias', 'cls.predictions.bias', 'cls.predictions.transform.LayerNorm.bias', 'cls.predictions.transform.LayerNorm.weight', 'cls.predictions.decoder.weight', 'cls.predictions.transform.dense.weight']\n",
      "- This IS expected if you are initializing BertModel from the checkpoint of a model trained on another task or with another architecture (e.g. initializing a BertForSequenceClassification model from a BertForPreTraining model).\n",
      "- This IS NOT expected if you are initializing BertModel from the checkpoint of a model that you expect to be exactly identical (initializing a BertForSequenceClassification model from a BertForSequenceClassification model).\n",
      "Some weights of BertModel were not initialized from the model checkpoint at weights/MoleculeBERT_pretrained and are newly initialized: ['bert.pooler.dense.bias', 'bert.pooler.dense.weight']\n",
      "You should probably TRAIN this model on a down-stream task to be able to use it for predictions and inference.\n",
      "Some weights of the model checkpoint at Rostlab/prot_bert were not used when initializing BertModel: ['cls.predictions.decoder.bias', 'cls.predictions.transform.dense.bias', 'cls.predictions.transform.LayerNorm.weight', 'cls.predictions.bias', 'cls.predictions.transform.LayerNorm.bias', 'cls.seq_relationship.weight', 'cls.predictions.decoder.weight', 'cls.seq_relationship.bias', 'cls.predictions.transform.dense.weight']\n",
      "- This IS expected if you are initializing BertModel from the checkpoint of a model trained on another task or with another architecture (e.g. initializing a BertForSequenceClassification model from a BertForPreTraining model).\n",
      "- This IS NOT expected if you are initializing BertModel from the checkpoint of a model that you expect to be exactly identical (initializing a BertForSequenceClassification model from a BertForSequenceClassification model).\n"
     ]
    }
   ],
   "source": [
    "from transformers import BertModel, BertTokenizer\n",
    "from transformers import PreTrainedTokenizerFast, PreTrainedTokenizer\n",
    "\n",
    "molecule_tokenizer = PreTrainedTokenizerFast(\n",
    "    tokenizer_file=\"data/drug/tokenizer_model/vocab.json\",\n",
    "    pad_token=\"[PAD]\",\n",
    "    mask_token=\"[MASK]\",\n",
    "    cls_token=\"[CLS]\",\n",
    "    sep_token=\"[SEP]\",\n",
    "    unk_token=\"[UNK]\"\n",
    ")\n",
    "\n",
    "molecule_bert = BertModel.from_pretrained(\"weights/MoleculeBERT_pretrained\")\n",
    "\n",
    "protein_tokenizer = BertTokenizer.from_pretrained(\"Rostlab/prot_bert\", do_lower_case=False)\n",
    "protein_bert = BertModel.from_pretrained(\"Rostlab/prot_bert\")"
   ]
  },
  {
   "cell_type": "code",
   "execution_count": 4,
   "id": "29c639f3",
   "metadata": {},
   "outputs": [
    {
     "name": "stderr",
     "output_type": "stream",
     "text": [
      "100%|█████████████████████████████████████████████████████████| 18041/18041 [30:20<00:00,  9.91it/s]\n",
      "100%|███████████████████████████████████████████████████████████| 2577/2577 [05:04<00:00,  8.47it/s]\n",
      "100%|███████████████████████████████████████████████████████████| 5154/5154 [10:13<00:00,  8.40it/s]\n"
     ]
    }
   ],
   "source": [
    "def get_feature_vectors(df, molecule_tokenizer, molecule_bert, protein_tokenizer, protein_bert):\n",
    "    df[\"Drug_vector\"] = \"\"\n",
    "    df[\"Target_vector\"] = \"\"\n",
    "    \n",
    "    for i, line in tqdm(df.iterrows(), total=len(df)):\n",
    "        drug = line['Drug']\n",
    "        target = \"\".join(line['Target'])\n",
    "        \n",
    "        encoded_drug = molecule_tokenizer(drug, max_length=128, truncation=True, return_tensors='pt')\n",
    "        encoded_target = protein_tokenizer(target, return_tensors='pt')\n",
    "        \n",
    "        drug_feature_vector = molecule_bert(**encoded_drug)\n",
    "        target_feature_vector = protein_bert(**encoded_target)\n",
    "        \n",
    "        df.at[i, \"Drug_vector\"] = drug_feature_vector[1].detach().numpy()[0]\n",
    "        df.at[i, \"Target_vector\"] = target_feature_vector[1].detach().numpy()[0]\n",
    "        \n",
    "    return df\n",
    "\n",
    "# binding_db_split['train'] = get_feature_vectors(binding_db_split['train'], molecule_tokenizer, molecule_bert, protein_tokenizer, protein_bert)\n",
    "# binding_db_split['valid'] = get_feature_vectors(binding_db_split['valid'], molecule_tokenizer, molecule_bert, protein_tokenizer, protein_bert)\n",
    "# binding_db_split['test'] = get_feature_vectors(binding_db_split['test'], molecule_tokenizer, molecule_bert, protein_tokenizer, protein_bert)\n",
    "\n",
    "davis_split['train'] = get_feature_vectors(davis_split['train'], molecule_tokenizer, molecule_bert, protein_tokenizer, protein_bert)\n",
    "davis_split['valid'] = get_feature_vectors(davis_split['valid'], molecule_tokenizer, molecule_bert, protein_tokenizer, protein_bert)\n",
    "davis_split['test'] = get_feature_vectors(davis_split['test'], molecule_tokenizer, molecule_bert, protein_tokenizer, protein_bert)\n"
   ]
  },
  {
   "cell_type": "code",
   "execution_count": null,
   "id": "e0e67df2",
   "metadata": {},
   "outputs": [],
   "source": [
    "import pickle \n",
    "\n",
    "with open(\"data/interaction/davis_embedded.pkl\", \"wb\") as f:\n",
    "    pickle.dump(f, davis_split)"
   ]
  },
  {
   "cell_type": "code",
   "execution_count": null,
   "id": "d69cb418",
   "metadata": {},
   "outputs": [],
   "source": []
  }
 ],
 "metadata": {
  "kernelspec": {
   "display_name": "Python 3 (ipykernel)",
   "language": "python",
   "name": "python3"
  },
  "language_info": {
   "codemirror_mode": {
    "name": "ipython",
    "version": 3
   },
   "file_extension": ".py",
   "mimetype": "text/x-python",
   "name": "python",
   "nbconvert_exporter": "python",
   "pygments_lexer": "ipython3",
   "version": "3.8.12"
  }
 },
 "nbformat": 4,
 "nbformat_minor": 5
}
