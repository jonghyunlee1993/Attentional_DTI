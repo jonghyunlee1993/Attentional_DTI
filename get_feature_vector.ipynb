{
 "cells": [
  {
   "cell_type": "code",
   "execution_count": 1,
   "id": "00a46c9c",
   "metadata": {
    "scrolled": true
   },
   "outputs": [
    {
     "name": "stderr",
     "output_type": "stream",
     "text": [
      "Some weights of BertModel were not initialized from the model checkpoint at weights/molecule_bert and are newly initialized: ['pooler.dense.bias', 'pooler.dense.weight']\n",
      "You should probably TRAIN this model on a down-stream task to be able to use it for predictions and inference.\n",
      "Some weights of BertModel were not initialized from the model checkpoint at weights/protein_bert and are newly initialized: ['pooler.dense.bias', 'pooler.dense.weight']\n",
      "You should probably TRAIN this model on a down-stream task to be able to use it for predictions and inference.\n"
     ]
    }
   ],
   "source": [
    "import torch\n",
    "import torch.nn as nn\n",
    "import torch.nn.functional as F\n",
    "\n",
    "from torch import einsum\n",
    "from einops import rearrange\n",
    "from torch.utils.data import DataLoader, Dataset, RandomSampler\n",
    "\n",
    "import pytorch_lightning as pl\n",
    "from pytorch_lightning.callbacks import ModelCheckpoint\n",
    "from torchmetrics.functional import mean_squared_error, mean_absolute_error\n",
    "\n",
    "from transformers import BertModel, BertTokenizer\n",
    "\n",
    "import pickle \n",
    "import numpy as np\n",
    "import pandas as pd\n",
    "from tqdm import tqdm\n",
    "from tdc.multi_pred import DTI\n",
    "from sklearn.decomposition import TruncatedSVD\n",
    "\n",
    "\n",
    "def molecule_encode(molecule_sequence):\n",
    "        molecule_sequence = molecule_tokenizer(\n",
    "            \" \".join(molecule_sequence), \n",
    "            max_length=128, \n",
    "            truncation=True,\n",
    "            return_tensors=\"pt\"\n",
    "        )\n",
    "        \n",
    "        return molecule_sequence\n",
    "    \n",
    "def protein_encode(protein_sequence):\n",
    "    protein_sequence = protein_tokenizer(\n",
    "        \" \".join(protein_sequence), \n",
    "        max_length=1024, \n",
    "        truncation=True, \n",
    "        return_tensors=\"pt\"\n",
    "    )\n",
    "\n",
    "    return protein_sequence\n",
    "\n",
    "\n",
    "molecule_bert = BertModel.from_pretrained(\"weights/molecule_bert\").to(\"cuda\")\n",
    "protein_bert = BertModel.from_pretrained(\"weights/protein_bert\").to(\"cuda\")\n",
    "\n",
    "molecule_bert.eval()\n",
    "protein_bert.eval()\n",
    "\n",
    "molecule_tokenizer = molecule_tokenizer = BertTokenizer.from_pretrained(\"data/drug/molecule_tokenizer\", model_max_length=128)\n",
    "protein_tokenizer = BertTokenizer.from_pretrained(\"data/target/protein_tokenizer\", do_lower_case=False)\n"
   ]
  },
  {
   "cell_type": "markdown",
   "id": "61734704",
   "metadata": {},
   "source": [
    "# DAVIS"
   ]
  },
  {
   "cell_type": "code",
   "execution_count": 2,
   "id": "b9aa1552",
   "metadata": {},
   "outputs": [
    {
     "name": "stderr",
     "output_type": "stream",
     "text": [
      "Found local copy...\n",
      "Loading...\n",
      "Done!\n",
      "To log space...\n",
      "100%|█████████████████████████████████████████| 378/378 [02:06<00:00,  3.00it/s]\n"
     ]
    }
   ],
   "source": [
    "davis = DTI(name=\"davis\")\n",
    "davis.convert_to_log(form = 'binding')\n",
    "davis_split = davis.get_split()\n",
    "\n",
    "train_df = davis_split['train']\n",
    "valid_df = davis_split['valid']\n",
    "test_df = davis_split['test']\n",
    "\n",
    "encoded_protein = protein_encode(train_df.Target.unique()[0]).to(\"cuda\")\n",
    "encoded_protein = protein_bert(**encoded_protein)\n",
    "\n",
    "results = encoded_protein.last_hidden_state.squeeze(0).detach().cpu().numpy()\n",
    "\n",
    "for target in tqdm(train_df.Target.unique()[1:]):\n",
    "    encoded_protein = protein_encode(target).to(\"cuda\")\n",
    "    encoded_protein = protein_bert(**encoded_protein)\n",
    "    result = encoded_protein.last_hidden_state.squeeze(0).detach().cpu().numpy()\n",
    "    results = np.vstack((results, result))\n",
    "    \n",
    "svd = TruncatedSVD(n_components=256, random_state=42).fit(results)"
   ]
  },
  {
   "cell_type": "markdown",
   "id": "5c317142",
   "metadata": {},
   "source": [
    "## Protein embedding - DAVIS"
   ]
  },
  {
   "cell_type": "code",
   "execution_count": 4,
   "id": "3004b3e6",
   "metadata": {},
   "outputs": [
    {
     "name": "stdout",
     "output_type": "stream",
     "text": [
      "Mode: train\n"
     ]
    },
    {
     "name": "stderr",
     "output_type": "stream",
     "text": [
      "100%|█████████████████████████████████████████| 379/379 [00:14<00:00, 25.61it/s]\n"
     ]
    },
    {
     "name": "stdout",
     "output_type": "stream",
     "text": [
      "Mode: valid\n"
     ]
    },
    {
     "name": "stderr",
     "output_type": "stream",
     "text": [
      "100%|█████████████████████████████████████████| 378/378 [00:14<00:00, 25.94it/s]\n"
     ]
    },
    {
     "name": "stdout",
     "output_type": "stream",
     "text": [
      "Mode: test\n"
     ]
    },
    {
     "name": "stderr",
     "output_type": "stream",
     "text": [
      "100%|█████████████████████████████████████████| 379/379 [00:14<00:00, 26.20it/s]\n"
     ]
    }
   ],
   "source": [
    "total_embeddings = {}\n",
    "\n",
    "for mode in [\"train\", \"valid\", \"test\"]:\n",
    "    if mode == \"train\":\n",
    "        unique_df = train_df.loc[:, [\"Target_ID\", \"Target\"]].drop_duplicates().reset_index(drop=True)\n",
    "    elif mode == \"valid\":\n",
    "        unique_df = valid_df.loc[:, [\"Target_ID\", \"Target\"]].drop_duplicates().reset_index(drop=True)\n",
    "    else:\n",
    "        unique_df = test_df.loc[:, [\"Target_ID\", \"Target\"]].drop_duplicates().reset_index(drop=True)\n",
    "    \n",
    "    print(\"Mode:\", mode)\n",
    "    results = {}\n",
    "    \n",
    "    for i, line in tqdm(unique_df.iterrows(), total=len(unique_df)):\n",
    "        encoded_protein = protein_encode(line['Target']).to(\"cuda\")\n",
    "        encoded_protein = protein_bert(**encoded_protein)\n",
    "\n",
    "        protein_cls = encoded_protein.pooler_output.detach().cpu().numpy()\n",
    "        protein_emb = encoded_protein.last_hidden_state[0].detach().cpu().numpy()\n",
    "        reduced_emb = svd.transform(protein_emb)\n",
    "\n",
    "        embeddings = [protein_cls, protein_emb, reduced_emb]\n",
    "        results[line[\"Target_ID\"]] = embeddings\n",
    "    \n",
    "    total_embeddings[mode] = results\n",
    "    \n",
    "with open(\"data/target/davis_target_embeddings.pkl\", \"wb\") as f:\n",
    "    pickle.dump(total_embeddings, f)"
   ]
  },
  {
   "cell_type": "markdown",
   "id": "04ee3209",
   "metadata": {},
   "source": [
    "## Molecule embedding - DAVIS"
   ]
  },
  {
   "cell_type": "code",
   "execution_count": 5,
   "id": "eeca4427",
   "metadata": {
    "scrolled": false
   },
   "outputs": [
    {
     "name": "stdout",
     "output_type": "stream",
     "text": [
      "Mode: train\n"
     ]
    },
    {
     "name": "stderr",
     "output_type": "stream",
     "text": [
      "100%|██████████████████████████████████████████| 68/68 [00:00<00:00, 117.41it/s]\n"
     ]
    },
    {
     "name": "stdout",
     "output_type": "stream",
     "text": [
      "Mode: valid\n"
     ]
    },
    {
     "name": "stderr",
     "output_type": "stream",
     "text": [
      "100%|██████████████████████████████████████████| 68/68 [00:00<00:00, 117.60it/s]\n"
     ]
    },
    {
     "name": "stdout",
     "output_type": "stream",
     "text": [
      "Mode: test\n"
     ]
    },
    {
     "name": "stderr",
     "output_type": "stream",
     "text": [
      "100%|██████████████████████████████████████████| 68/68 [00:00<00:00, 118.13it/s]\n"
     ]
    }
   ],
   "source": [
    "total_embeddings = {}\n",
    "\n",
    "for mode in [\"train\", \"valid\", \"test\"]:\n",
    "    if mode == \"train\":\n",
    "        unique_df = train_df.loc[:, [\"Drug_ID\", \"Drug\"]].drop_duplicates().reset_index(drop=True)\n",
    "    elif mode == \"valid\":\n",
    "        unique_df = valid_df.loc[:, [\"Drug_ID\", \"Drug\"]].drop_duplicates().reset_index(drop=True)\n",
    "    else:\n",
    "        unique_df = test_df.loc[:, [\"Drug_ID\", \"Drug\"]].drop_duplicates().reset_index(drop=True)\n",
    "    \n",
    "    print(\"Mode:\", mode)\n",
    "    results = {}\n",
    "    \n",
    "    for i, line in tqdm(unique_df.iterrows(), total=len(unique_df)):\n",
    "        encoded_molecule = molecule_encode(line['Drug']).to(\"cuda\")\n",
    "        encoded_molecule = molecule_bert(**encoded_molecule)\n",
    "\n",
    "        molecule_cls = encoded_molecule.pooler_output.detach().cpu().numpy()\n",
    "        moelcule_emb = encoded_molecule.last_hidden_state[0].detach().cpu().numpy()\n",
    "\n",
    "        embeddings = [molecule_cls, moelcule_emb]\n",
    "        results[line[\"Drug_ID\"]] = embeddings\n",
    "    \n",
    "    total_embeddings[mode] = results\n",
    "    \n",
    "with open(\"data/drug/davis_drug_embeddings.pkl\", \"wb\") as f:\n",
    "    pickle.dump(total_embeddings, f)"
   ]
  },
  {
   "cell_type": "markdown",
   "id": "21599d1c",
   "metadata": {},
   "source": [
    "# KIBA"
   ]
  },
  {
   "cell_type": "code",
   "execution_count": 10,
   "id": "6ea0cc25",
   "metadata": {
    "scrolled": true
   },
   "outputs": [
    {
     "name": "stderr",
     "output_type": "stream",
     "text": [
      "Found local copy...\n",
      "Loading...\n",
      "Done!\n",
      "100%|█████████████████████████████████████████| 228/228 [00:31<00:00,  7.26it/s]\n"
     ]
    }
   ],
   "source": [
    "kiba = DTI(name=\"kiba\")\n",
    "kiba_split = kiba.get_split()\n",
    "\n",
    "train_df = kiba_split['train']\n",
    "valid_df = kiba_split['valid']\n",
    "test_df = kiba_split['test']\n",
    "\n",
    "encoded_protein = protein_encode(train_df.Target.unique()[0]).to(\"cuda\")\n",
    "encoded_protein = protein_bert(**encoded_protein)\n",
    "\n",
    "results = encoded_protein.last_hidden_state.squeeze(0).detach().cpu().numpy()\n",
    "\n",
    "for target in tqdm(train_df.Target.unique()[1:]):\n",
    "    encoded_protein = protein_encode(target).to(\"cuda\")\n",
    "    encoded_protein = protein_bert(**encoded_protein)\n",
    "    result = encoded_protein.last_hidden_state.squeeze(0).detach().cpu().numpy()\n",
    "    results = np.vstack((results, result))\n",
    "\n",
    "svd = TruncatedSVD(n_components=256, random_state=42).fit(results)"
   ]
  },
  {
   "cell_type": "markdown",
   "id": "53f54929",
   "metadata": {},
   "source": [
    "## Protein embedding - KIBA"
   ]
  },
  {
   "cell_type": "code",
   "execution_count": 11,
   "id": "9e8cd1cb",
   "metadata": {},
   "outputs": [
    {
     "name": "stdout",
     "output_type": "stream",
     "text": [
      "Mode: train\n"
     ]
    },
    {
     "name": "stderr",
     "output_type": "stream",
     "text": [
      "100%|█████████████████████████████████████████| 229/229 [00:09<00:00, 25.03it/s]\n"
     ]
    },
    {
     "name": "stdout",
     "output_type": "stream",
     "text": [
      "Mode: valid\n"
     ]
    },
    {
     "name": "stderr",
     "output_type": "stream",
     "text": [
      "100%|█████████████████████████████████████████| 226/226 [00:07<00:00, 29.13it/s]\n"
     ]
    },
    {
     "name": "stdout",
     "output_type": "stream",
     "text": [
      "Mode: test\n"
     ]
    },
    {
     "name": "stderr",
     "output_type": "stream",
     "text": [
      "100%|█████████████████████████████████████████| 228/228 [00:08<00:00, 27.29it/s]\n"
     ]
    }
   ],
   "source": [
    "total_embeddings = {}\n",
    "\n",
    "for mode in [\"train\", \"valid\", \"test\"]:\n",
    "    if mode == \"train\":\n",
    "        unique_df = train_df.loc[:, [\"Target_ID\", \"Target\"]].drop_duplicates().reset_index(drop=True)\n",
    "    elif mode == \"valid\":\n",
    "        unique_df = valid_df.loc[:, [\"Target_ID\", \"Target\"]].drop_duplicates().reset_index(drop=True)\n",
    "    else:\n",
    "        unique_df = test_df.loc[:, [\"Target_ID\", \"Target\"]].drop_duplicates().reset_index(drop=True)\n",
    "    \n",
    "    print(\"Mode:\", mode)\n",
    "    results = {}\n",
    "    \n",
    "    for i, line in tqdm(unique_df.iterrows(), total=len(unique_df)):\n",
    "        encoded_protein = protein_encode(line['Target']).to(\"cuda\")\n",
    "        encoded_protein = protein_bert(**encoded_protein)\n",
    "\n",
    "        protein_cls = encoded_protein.pooler_output.detach().cpu().numpy()\n",
    "        protein_emb = encoded_protein.last_hidden_state[0].detach().cpu().numpy()\n",
    "        reduced_emb = svd.transform(protein_emb)\n",
    "\n",
    "        embeddings = [protein_cls, protein_emb, reduced_emb]\n",
    "        results[line[\"Target_ID\"]] = embeddings\n",
    "    \n",
    "    total_embeddings[mode] = results\n",
    "    \n",
    "with open(\"data/target/kiba_target_embeddings.pkl\", \"wb\") as f:\n",
    "    pickle.dump(total_embeddings, f)"
   ]
  },
  {
   "cell_type": "markdown",
   "id": "24a5df17",
   "metadata": {},
   "source": [
    "## Molecule embedding - KIBA"
   ]
  },
  {
   "cell_type": "code",
   "execution_count": 12,
   "id": "8d52b315",
   "metadata": {},
   "outputs": [
    {
     "name": "stdout",
     "output_type": "stream",
     "text": [
      "Mode: train\n"
     ]
    },
    {
     "name": "stderr",
     "output_type": "stream",
     "text": [
      "100%|██████████████████████████████████████| 2068/2068 [00:16<00:00, 125.46it/s]\n"
     ]
    },
    {
     "name": "stdout",
     "output_type": "stream",
     "text": [
      "Mode: valid\n"
     ]
    },
    {
     "name": "stderr",
     "output_type": "stream",
     "text": [
      "100%|██████████████████████████████████████| 1850/1850 [00:15<00:00, 119.12it/s]\n"
     ]
    },
    {
     "name": "stdout",
     "output_type": "stream",
     "text": [
      "Mode: test\n"
     ]
    },
    {
     "name": "stderr",
     "output_type": "stream",
     "text": [
      "100%|██████████████████████████████████████| 2021/2021 [00:16<00:00, 120.53it/s]\n"
     ]
    }
   ],
   "source": [
    "total_embeddings = {}\n",
    "\n",
    "for mode in [\"train\", \"valid\", \"test\"]:\n",
    "    if mode == \"train\":\n",
    "        unique_df = train_df.loc[:, [\"Drug_ID\", \"Drug\"]].drop_duplicates().reset_index(drop=True)\n",
    "    elif mode == \"valid\":\n",
    "        unique_df = valid_df.loc[:, [\"Drug_ID\", \"Drug\"]].drop_duplicates().reset_index(drop=True)\n",
    "    else:\n",
    "        unique_df = test_df.loc[:, [\"Drug_ID\", \"Drug\"]].drop_duplicates().reset_index(drop=True)\n",
    "    \n",
    "    print(\"Mode:\", mode)\n",
    "    results = {}\n",
    "    \n",
    "    for i, line in tqdm(unique_df.iterrows(), total=len(unique_df)):\n",
    "        encoded_molecule = molecule_encode(line['Drug']).to(\"cuda\")\n",
    "        encoded_molecule = molecule_bert(**encoded_molecule)\n",
    "\n",
    "        molecule_cls = encoded_molecule.pooler_output.detach().cpu().numpy()\n",
    "        moelcule_emb = encoded_molecule.last_hidden_state[0].detach().cpu().numpy()\n",
    "\n",
    "        embeddings = [molecule_cls, moelcule_emb]\n",
    "        results[line[\"Drug_ID\"]] = embeddings\n",
    "    \n",
    "    total_embeddings[mode] = results\n",
    "    \n",
    "with open(\"data/drug/kiba_drug_embeddings.pkl\", \"wb\") as f:\n",
    "    pickle.dump(total_embeddings, f)"
   ]
  },
  {
   "cell_type": "code",
   "execution_count": null,
   "id": "9d0b1117",
   "metadata": {},
   "outputs": [],
   "source": []
  }
 ],
 "metadata": {
  "kernelspec": {
   "display_name": "Python 3 (ipykernel)",
   "language": "python",
   "name": "python3"
  },
  "language_info": {
   "codemirror_mode": {
    "name": "ipython",
    "version": 3
   },
   "file_extension": ".py",
   "mimetype": "text/x-python",
   "name": "python",
   "nbconvert_exporter": "python",
   "pygments_lexer": "ipython3",
   "version": "3.8.13"
  }
 },
 "nbformat": 4,
 "nbformat_minor": 5
}
