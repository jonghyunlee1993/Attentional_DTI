{
 "cells": [
  {
   "cell_type": "code",
   "execution_count": 1,
   "id": "f1fe7b5f",
   "metadata": {},
   "outputs": [
    {
     "name": "stderr",
     "output_type": "stream",
     "text": [
      "Found local copy...\n",
      "Loading...\n",
      "Done!\n",
      "To log space...\n"
     ]
    }
   ],
   "source": [
    "import pandas as pd\n",
    "from tqdm import tqdm\n",
    "from rdkit import Chem\n",
    "from rdkit.Chem.QED import qed\n",
    "from tdc.multi_pred import DTI\n",
    "\n",
    "from rdkit import RDLogger \n",
    "RDLogger.DisableLog('rdApp.*')\n",
    "\n",
    "import warnings\n",
    "warnings.filterwarnings(action='ignore')\n",
    "\n",
    "davis = DTI(name=\"Davis\")\n",
    "davis.convert_to_log(form='binding')\n",
    "davis_split = davis.get_split()"
   ]
  },
  {
   "cell_type": "code",
   "execution_count": 2,
   "id": "cbdacaa5",
   "metadata": {},
   "outputs": [],
   "source": [
    "def canonicalize_smiles(df):\n",
    "    for i, smiles in enumerate(df['Drug']):\n",
    "        mol = Chem.MolFromSmiles(smiles)\n",
    "        canonical_smiles = Chem.MolToSmiles(mol)\n",
    "        \n",
    "        df.loc[i, 'Drug'] = canonical_smiles\n",
    "        \n",
    "    return df\n",
    "\n",
    "train_df = canonicalize_smiles(davis_split['train'])\n",
    "valid_df = canonicalize_smiles(davis_split['valid'])\n",
    "test_df = canonicalize_smiles(davis_split['test'])"
   ]
  },
  {
   "cell_type": "code",
   "execution_count": 3,
   "id": "4668442c",
   "metadata": {
    "scrolled": true
   },
   "outputs": [
    {
     "name": "stderr",
     "output_type": "stream",
     "text": [
      "Some weights of BertModel were not initialized from the model checkpoint at weights/molecule_bert_pretrained-masking_rate_30 and are newly initialized: ['pooler.dense.bias', 'pooler.dense.weight']\n",
      "You should probably TRAIN this model on a down-stream task to be able to use it for predictions and inference.\n",
      "Some weights of the model checkpoint at Rostlab/prot_bert were not used when initializing BertModel: ['cls.seq_relationship.bias', 'cls.predictions.decoder.weight', 'cls.predictions.transform.LayerNorm.bias', 'cls.predictions.decoder.bias', 'cls.predictions.transform.LayerNorm.weight', 'cls.predictions.transform.dense.weight', 'cls.predictions.bias', 'cls.predictions.transform.dense.bias', 'cls.seq_relationship.weight']\n",
      "- This IS expected if you are initializing BertModel from the checkpoint of a model trained on another task or with another architecture (e.g. initializing a BertForSequenceClassification model from a BertForPreTraining model).\n",
      "- This IS NOT expected if you are initializing BertModel from the checkpoint of a model that you expect to be exactly identical (initializing a BertForSequenceClassification model from a BertForSequenceClassification model).\n"
     ]
    }
   ],
   "source": [
    "from transformers import BertModel, BertTokenizer\n",
    "from transformers import PreTrainedTokenizerFast, PreTrainedTokenizer\n",
    "\n",
    "molecule_tokenizer = PreTrainedTokenizerFast(\n",
    "    tokenizer_file=\"data/drug/tokenizer_model/vocab.json\",\n",
    "    pad_token=\"[PAD]\",\n",
    "    mask_token=\"[MASK]\",\n",
    "    cls_token=\"[CLS]\",\n",
    "    sep_token=\"[SEP]\",\n",
    "    unk_token=\"[UNK]\",\n",
    "    model_max_length=128\n",
    ")\n",
    "molecule_bert = BertModel.from_pretrained(\"weights/molecule_bert_pretrained-masking_rate_30\", local_files_only=True)\n",
    "\n",
    "protein_tokenizer = BertTokenizer.from_pretrained(\"Rostlab/prot_bert\", do_lower_case=False, model_max_length=2048)\n",
    "protein_bert = BertModel.from_pretrained(\"Rostlab/prot_bert\")"
   ]
  },
  {
   "cell_type": "code",
   "execution_count": 4,
   "id": "87455427",
   "metadata": {
    "scrolled": true
   },
   "outputs": [],
   "source": [
    "import torch\n",
    "import torch.nn as nn\n",
    "import torch.nn.functional as F\n",
    "from torch.utils.data import DataLoader, Dataset, RandomSampler\n",
    "from transformers import DataCollatorWithPadding\n",
    "\n",
    "\n",
    "class DTIDataset(Dataset):\n",
    "    def __init__(self, data, tokenizer=None, mode=\"Drug\"):\n",
    "        self.data = data\n",
    "        self.mode = mode\n",
    "        if self.mode == \"Drug\":\n",
    "            self.max_seq_len = 128\n",
    "        elif self.mode == \"Target\":\n",
    "            self.max_seq_len = 2048\n",
    "        \n",
    "        self.tokenizer = tokenizer\n",
    "    \n",
    "        \n",
    "    def encode(self, sequnce):\n",
    "        sequnce = self.tokenizer(\" \".join(sequnce), max_length=self.max_seq_len, truncation=True)\n",
    "        \n",
    "        return sequnce\n",
    "        \n",
    "        \n",
    "    def __len__(self):\n",
    "        return len(self.data)\n",
    "\n",
    "    \n",
    "    def __getitem__(self, idx):\n",
    "        if self.mode == \"Drug\":\n",
    "            return_value = self.encode(self.data.loc[idx, \"Drug\"])\n",
    "        elif self.mode == \"Target\":\n",
    "            return_value = self.encode(self.data.loc[idx, \"Target\"])\n",
    "        elif self.mode == \"Y\":\n",
    "            return_value = torch.tensor(self.data.loc[idx, \"Y\"]).float()\n",
    "        else:\n",
    "            print(\"please choose between ['Drug' / 'Target' / 'Y']\")\n",
    "            raise()\n",
    "        \n",
    "        return return_value\n",
    "    \n",
    "\n",
    "def define_dataloaders(df, molecule_tokenizer, protein_tokenizer, batch_size=256, num_workers=16, prefetch_factor=10, mode=\"train\"):\n",
    "    drug_collator = DataCollatorWithPadding(molecule_tokenizer, padding=True, return_tensors=\"pt\")\n",
    "    target_collator = DataCollatorWithPadding(protein_tokenizer, padding=True, return_tensors=\"pt\")\n",
    "    \n",
    "    drug_dataset = DTIDataset(df, molecule_tokenizer, mode=\"Drug\")\n",
    "    target_dataset = DTIDataset(df, protein_tokenizer, mode=\"Target\")\n",
    "    y_dataset = DTIDataset(df, None, mode=\"Y\")\n",
    "    \n",
    "    if mode == \"Train\":\n",
    "        shuffle = True\n",
    "        drop_last = True\n",
    "    elif mode == \"Valid\":\n",
    "        shuffle = False\n",
    "        drop_last = False\n",
    "    else:\n",
    "        print(\"please specify mode between ['Train' / 'Valid']\")\n",
    "        raise()\n",
    "        \n",
    "    \n",
    "    drug_dataloader = DataLoader(drug_dataset, batch_size=batch_size, num_workers=num_workers, \n",
    "                                shuffle=shuffle, pin_memory=True, prefetch_factor=prefetch_factor, \n",
    "                                drop_last=drop_last, collate_fn=drug_collator)\n",
    "    target_dataloader = DataLoader(target_dataset, batch_size=batch_size, num_workers=num_workers, \n",
    "                                shuffle=shuffle, pin_memory=True, prefetch_factor=prefetch_factor, \n",
    "                                drop_last=drop_last, collate_fn=drug_collator)\n",
    "    y_dataloader = DataLoader(y_dataset, batch_size=batch_size, num_workers=num_workers, \n",
    "                              shuffle=shuffle, pin_memory=True, prefetch_factor=prefetch_factor, \n",
    "                              drop_last=drop_last)\n",
    "    \n",
    "    return drug_dataloader, target_dataloader, y_dataloader\n",
    "\n",
    "\n",
    "unified_train_dataloader = define_dataloaders(train_df, molecule_tokenizer, protein_tokenizer, batch_size=32, mode=\"Train\")\n",
    "unified_valid_dataloader = define_dataloaders(valid_df, molecule_tokenizer, protein_tokenizer, batch_size=32, mode=\"Valid\")\n",
    "unified_test_dataloader = define_dataloaders(test_df, molecule_tokenizer, protein_tokenizer, batch_size=1, mode=\"Valid\")\n"
   ]
  },
  {
   "cell_type": "code",
   "execution_count": 5,
   "id": "e1bb960d",
   "metadata": {},
   "outputs": [],
   "source": [
    "class DTIPredictionHead(nn.Module):\n",
    "    def __init__(self, molecule_encoder, protein_encoder):\n",
    "        super().__init__()\n",
    "        self.molecule_encoder = molecule_encoder\n",
    "        self.protein_encoder = protein_encoder\n",
    "        \n",
    "        # model freezing\n",
    "        for param in self.molecule_encoder.parameters():\n",
    "            param.requires_grad = False\n",
    "        \n",
    "        for param in self.protein_encoder.parameters():\n",
    "            param.requires_grad = False\n",
    "        \n",
    "        molecule_out = 128\n",
    "        protein_out = 1024\n",
    "        self.fc_1 = nn.Linear(molecule_out + protein_out, 512)        \n",
    "        self.fc_2 = nn.Linear(512, 256)\n",
    "        self.fc_out = nn.Linear(256, 1)\n",
    "        \n",
    "        \n",
    "    def forward(self, smiles, fasta):\n",
    "        smiles_vec = self.molecule_encoder(smiles).pooler_output\n",
    "        fasta_vec = self.protein_encoder(fasta).pooler_output\n",
    "        \n",
    "        x = torch.cat((smiles_vec, fasta_vec), -1)\n",
    "        x = F.dropout(F.gelu(self.fc_1(x)), 0.2)\n",
    "        x = F.dropout(F.gelu(self.fc_2(x)), 0.2)\n",
    "        x = self.fc_out(x)\n",
    "        \n",
    "        return x\n",
    "        \n",
    "        \n",
    "dti_prediction_head = DTIPredictionHead(molecule_bert, protein_bert)"
   ]
  },
  {
   "cell_type": "code",
   "execution_count": 6,
   "id": "d2eca3c1",
   "metadata": {
    "scrolled": true
   },
   "outputs": [
    {
     "name": "stderr",
     "output_type": "stream",
     "text": [
      "Using 16bit native Automatic Mixed Precision (AMP)\n",
      "GPU available: True, used: True\n",
      "TPU available: False, using: 0 TPU cores\n",
      "IPU available: False, using: 0 IPUs\n"
     ]
    }
   ],
   "source": [
    "import torchmetrics\n",
    "import pytorch_lightning as pl\n",
    "from pytorch_lightning.callbacks import ModelCheckpoint, EarlyStopping\n",
    "\n",
    "\n",
    "class DTI_prediction(pl.LightningModule):\n",
    "    def __init__(self, dti_prediction_head, \n",
    "                 unified_train_dataloader, \n",
    "                 unified_valid_dataloader, \n",
    "                 unified_test_dataloader):\n",
    "        super().__init__()\n",
    "        self.model = dti_prediction_head\n",
    "        \n",
    "        self.unified_train_dataloader = unified_train_dataloader\n",
    "        self.unified_valid_dataloader = unified_valid_dataloader\n",
    "        self.unified_test_dataloader = unified_test_dataloader\n",
    "        \n",
    "        self.train_accuracy = torchmetrics.MeanAbsoluteError()\n",
    "        self.valid_accuracy = torchmetrics.MeanAbsoluteError()\n",
    "        self.test_accuracy = torchmetrics.MeanAbsoluteError()\n",
    "        \n",
    "        \n",
    "    def forward(self, smiles, fasta):\n",
    "        return self.model(smiles, fasta)\n",
    "\n",
    "    \n",
    "    def train_dataloader(self):\n",
    "        drug_dataloader, target_dataloader, y_dataloader = self.unified_train_dataloader\n",
    "\n",
    "        return {\"drug\": drug_dataloader, \"target\": target_dataloader, \"y\": y_dataloader}\n",
    "    \n",
    "    \n",
    "    def training_step(self, batch, batch_idx):\n",
    "        smiles = batch[\"drug\"]\n",
    "        fasta = batch[\"target\"]\n",
    "        y = batch[\"y\"]\n",
    "        \n",
    "        y_hat = self(smiles['input_ids'], fasta['input_ids']).squeeze(-1)        \n",
    "        loss = F.mse_loss(y_hat, y)\n",
    "        \n",
    "        self.log('train_loss', loss, on_step=False, on_epoch=True, prog_bar=True)\n",
    "        self.log(\"train_accuracy\", self.train_accuracy(y_hat, y), on_step=False, on_epoch=True, prog_bar=True)\n",
    "        \n",
    "        return loss\n",
    "\n",
    "    \n",
    "    def valid_dataloader(self):\n",
    "        drug_dataloader, target_dataloader, y_dataloader = self.unified_valid_dataloader\n",
    "\n",
    "        return {\"drug\": drug_dataloader, \"target\": target_dataloader, \"y\": y_dataloader}\n",
    "    \n",
    "    \n",
    "    def validation_step(self, batch, batch_idx):\n",
    "        smiles = batch[\"drug\"]\n",
    "        fasta = batch[\"target\"]\n",
    "        y = batch[\"y\"]\n",
    "        \n",
    "        y_hat = self(smiles['input_ids'], fasta['input_ids']).squeeze(-1)\n",
    "        loss = F.mse_loss(y_hat, y)\n",
    "        \n",
    "        self.log('valid_loss', loss, on_step=False, on_epoch=True, prog_bar=True)\n",
    "        self.log(\"valid_accuracy\", self.valid_accuracy(y_hat, y), on_step=False, on_epoch=True, prog_bar=True)\n",
    "    \n",
    "    \n",
    "    def test_dataloader(self):\n",
    "        drug_dataloader, target_dataloader, y_dataloader = self.unified_test_dataloader\n",
    "\n",
    "        return {\"drug\": drug_dataloader, \"target\": target_dataloader, \"y\": y_dataloader}\n",
    "    \n",
    "    \n",
    "    def test_step(self, batch, batch_idx):\n",
    "        smiles = batch[\"drug\"]\n",
    "        fasta = batch[\"target\"]\n",
    "        y = batch[\"y\"]\n",
    "        \n",
    "        y_hat = self(smiles['input_ids'], fasta['input_ids']).squeeze(-1)\n",
    "        loss = F.mse_loss(y_hat, y)\n",
    "        \n",
    "        self.log('test_loss', loss, on_step=False, on_epoch=True, prog_bar=True)\n",
    "        self.log(\"test_accuracy\", self.valid_accuracy(y_hat, y), on_step=False, on_epoch=True, prog_bar=True)\n",
    "    \n",
    "    \n",
    "    def predict_step(self, batch, batch_idx):\n",
    "        smiles = batch[\"drug\"]\n",
    "        fasta = batch[\"target\"]\n",
    "        y = batch[\"y\"]\n",
    "        \n",
    "        y_hat = self(smiles['input_ids'], fasta['input_ids']).squeeze(-1)\n",
    "        \n",
    "        return y_hat\n",
    "    \n",
    "    \n",
    "    def configure_optimizers(self):\n",
    "        optimizer = torch.optim.AdamW(self.parameters(), lr=1e-4)\n",
    "        scheduler = torch.optim.lr_scheduler.CosineAnnealingWarmRestarts(optimizer, T_0=10)\n",
    "    \n",
    "        return {\"optimizer\": optimizer, \"lr_scheduler\": scheduler}\n",
    "    \n",
    "    \n",
    "callbacks = [\n",
    "    ModelCheckpoint(monitor='valid_loss', save_top_k=20, dirpath='weights/DTI_prediction_CLS_token_concatenate', filename='molecule_bert-{epoch:03d}-{valid_loss:.4f}'),\n",
    "]\n",
    "\n",
    "model = DTI_prediction(\n",
    "    dti_prediction_head, \n",
    "    unified_train_dataloader,\n",
    "    unified_valid_dataloader,\n",
    "    unified_test_dataloader\n",
    ")\n",
    "trainer = pl.Trainer(max_epochs=1000, gpus=1, enable_progress_bar=True, callbacks=callbacks, precision=16)"
   ]
  },
  {
   "cell_type": "code",
   "execution_count": 7,
   "id": "9eb1685b",
   "metadata": {
    "scrolled": false
   },
   "outputs": [
    {
     "name": "stderr",
     "output_type": "stream",
     "text": [
      "LOCAL_RANK: 0 - CUDA_VISIBLE_DEVICES: [0]\n",
      "\n",
      "  | Name           | Type              | Params\n",
      "-----------------------------------------------------\n",
      "0 | model          | DTIPredictionHead | 422 M \n",
      "1 | train_accuracy | MeanAbsoluteError | 0     \n",
      "2 | valid_accuracy | MeanAbsoluteError | 0     \n",
      "3 | test_accuracy  | MeanAbsoluteError | 0     \n",
      "-----------------------------------------------------\n",
      "721 K     Trainable params\n",
      "421 M     Non-trainable params\n",
      "422 M     Total params\n",
      "844.563   Total estimated model params size (MB)\n"
     ]
    },
    {
     "data": {
      "application/vnd.jupyter.widget-view+json": {
       "model_id": "3e3e2090d3fa4464aaaa0ea7b2d148d1",
       "version_major": 2,
       "version_minor": 0
      },
      "text/plain": [
       "Training: 0it [00:00, ?it/s]"
      ]
     },
     "metadata": {},
     "output_type": "display_data"
    }
   ],
   "source": [
    "trainer.fit(model)"
   ]
  },
  {
   "cell_type": "code",
   "execution_count": 13,
   "id": "524700e5",
   "metadata": {},
   "outputs": [
    {
     "name": "stderr",
     "output_type": "stream",
     "text": [
      "LOCAL_RANK: 0 - CUDA_VISIBLE_DEVICES: [0]\n"
     ]
    },
    {
     "data": {
      "application/vnd.jupyter.widget-view+json": {
       "model_id": "6a8e106c04fe472bba82d817bf0fc42d",
       "version_major": 2,
       "version_minor": 0
      },
      "text/plain": [
       "Predicting: 0it [00:00, ?it/s]"
      ]
     },
     "metadata": {},
     "output_type": "display_data"
    },
    {
     "ename": "AttributeError",
     "evalue": "'DataLoader' object has no attribute 'data'",
     "output_type": "error",
     "traceback": [
      "\u001b[0;31m---------------------------------------------------------------------------\u001b[0m",
      "\u001b[0;31mAttributeError\u001b[0m                            Traceback (most recent call last)",
      "Input \u001b[0;32mIn [13]\u001b[0m, in \u001b[0;36m<cell line: 7>\u001b[0;34m()\u001b[0m\n\u001b[1;32m      4\u001b[0m model\u001b[38;5;241m.\u001b[39mload_from_checkpoint(dti_prediction_head\u001b[38;5;241m=\u001b[39mdti_prediction_head, checkpoint_path\u001b[38;5;241m=\u001b[39m\u001b[38;5;124m\"\u001b[39m\u001b[38;5;124mweights/DTI_prediction_CLS_token_concatenate/\u001b[39m\u001b[38;5;124m\"\u001b[39m \u001b[38;5;241m+\u001b[39m checkpoint_file)\n\u001b[1;32m      6\u001b[0m pred \u001b[38;5;241m=\u001b[39m trainer\u001b[38;5;241m.\u001b[39mpredict(model, test_dataloader)\n\u001b[0;32m----> 7\u001b[0m true \u001b[38;5;241m=\u001b[39m test_dataloader\u001b[38;5;241m.\u001b[39mdata\u001b[38;5;241m.\u001b[39mY\u001b[38;5;241m.\u001b[39mvalues\n\u001b[1;32m      9\u001b[0m mae \u001b[38;5;241m=\u001b[39m mean_absolute_error(true, pred)\n\u001b[1;32m     10\u001b[0m mse \u001b[38;5;241m=\u001b[39m mean_squared_error(true, pred)\n",
      "\u001b[0;31mAttributeError\u001b[0m: 'DataLoader' object has no attribute 'data'"
     ]
    }
   ],
   "source": [
    "checkpoint_file = \"\"\n",
    "model.load_from_checkpoint(dti_prediction_head=dti_prediction_head, checkpoint_path=\"weights/DTI_prediction_CLS_token_concatenate/\" + checkpoint_file)\n",
    "\n",
    "pred = trainer.predict(model, test_dataloader)\n"
   ]
  },
  {
   "cell_type": "code",
   "execution_count": null,
   "id": "61195293",
   "metadata": {},
   "outputs": [],
   "source": []
  }
 ],
 "metadata": {
  "kernelspec": {
   "display_name": "Python 3 (ipykernel)",
   "language": "python",
   "name": "python3"
  },
  "language_info": {
   "codemirror_mode": {
    "name": "ipython",
    "version": 3
   },
   "file_extension": ".py",
   "mimetype": "text/x-python",
   "name": "python",
   "nbconvert_exporter": "python",
   "pygments_lexer": "ipython3",
   "version": "3.8.12"
  }
 },
 "nbformat": 4,
 "nbformat_minor": 5
}
