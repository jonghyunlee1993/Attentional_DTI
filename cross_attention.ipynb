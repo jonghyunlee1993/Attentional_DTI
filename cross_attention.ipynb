{
 "cells": [
  {
   "cell_type": "code",
   "execution_count": 1,
   "id": "a732db0d",
   "metadata": {},
   "outputs": [],
   "source": [
    "# https://github.com/rishikksh20/CrossViT-pytorch/blob/master/crossvit.py\n",
    "\n",
    "import torch\n",
    "from torch import einsum, nn\n",
    "import torch.nn.functional as F\n",
    "from einops import rearrange\n",
    "\n",
    "\n",
    "class CrossAttention(nn.Module):\n",
    "    def __init__(self, input_dim=128, intermediate_dim=256, heads=4, dropout=0.):\n",
    "        super().__init__()\n",
    "        project_out = input_dim\n",
    "\n",
    "        self.heads = heads\n",
    "        self.scale = (input_dim / heads) ** -0.5\n",
    "\n",
    "        self.key = nn.Linear(input_dim, intermediate_dim, bias=False)\n",
    "        self.value = nn.Linear(input_dim, intermediate_dim, bias=False)\n",
    "        self.query = nn.Linear(input_dim, intermediate_dim, bias=False)\n",
    "\n",
    "        self.out = nn.Sequential(\n",
    "            nn.Linear(intermediate_dim, project_out),\n",
    "            nn.Dropout(dropout)\n",
    "        )\n",
    "\n",
    "        \n",
    "    def forward(self, data):\n",
    "        b, n, d, h = *data.shape, self.heads\n",
    "\n",
    "        k = self.key(data)\n",
    "        k = rearrange(k, 'b n (h d) -> b h n d', h=h)\n",
    "\n",
    "        v = self.value(data)\n",
    "        v = rearrange(v, 'b n (h d) -> b h n d', h=h)\n",
    "        \n",
    "        # get only cls token\n",
    "        q = self.query(data[:, 0].unsqueeze(1))\n",
    "        q = rearrange(q, 'b n (h d) -> b h n d', h=h)\n",
    "\n",
    "        dots = einsum('b h i d, b h j d -> b h i j', q, k) * self.scale\n",
    "        attention = dots.softmax(dim=-1)\n",
    "\n",
    "        output = einsum('b h i j, b h j d -> b h i d', attention, v)\n",
    "        output = rearrange(output, 'b h n d -> b n (h d)')\n",
    "        output = self.out(output)\n",
    "        \n",
    "        return output\n",
    "\n",
    "\n",
    "class PreNorm(nn.Module):\n",
    "    def __init__(self, dim, fn):\n",
    "        super().__init__()\n",
    "        self.norm = nn.LayerNorm(dim)\n",
    "        self.fn = fn\n",
    "        \n",
    "    def forward(self, x, **kwargs):\n",
    "        return self.fn(self.norm(x), **kwargs)\n",
    "\n",
    "    \n",
    "class CrossAttentionLayer(nn.Module):\n",
    "    def __init__(self, \n",
    "                 molecule_dim=128, molecule_intermediate_dim=256,\n",
    "                 protein_dim=1024, protein_intermediate_dim=2048,\n",
    "                 cross_attn_depth=1, cross_attn_heads=4, dropout=0.):\n",
    "        super().__init__()\n",
    "\n",
    "\n",
    "        self.cross_attn_layers = nn.ModuleList([])\n",
    "        for _ in range(cross_attn_depth):\n",
    "            self.cross_attn_layers.append(nn.ModuleList([\n",
    "                nn.Linear(molecule_dim, protein_dim),\n",
    "                nn.Linear(protein_dim, molecule_dim),\n",
    "                PreNorm(protein_dim, CrossAttention(\n",
    "                    protein_dim, protein_intermediate_dim, cross_attn_heads, dropout\n",
    "                )),\n",
    "                nn.Linear(protein_dim, molecule_dim),\n",
    "                nn.Linear(molecule_dim, protein_dim),\n",
    "                PreNorm(molecule_dim, CrossAttention(\n",
    "                    molecule_dim, molecule_intermediate_dim, cross_attn_heads, dropout\n",
    "                ))\n",
    "            ]))\n",
    "\n",
    "            \n",
    "    def forward(self, molecule, protein):\n",
    "        for f_sl, g_ls, cross_attn_s, f_ls, g_sl, cross_attn_l in self.cross_attn_layers:\n",
    "            \n",
    "            cls_molecule = molecule[:, 0]\n",
    "            x_molecule = molecule[:, 1:]\n",
    "            \n",
    "            cls_protein = protein[:, 0]\n",
    "            x_protein = protein[:, 1:]\n",
    "\n",
    "            # Cross attention for protein sequence\n",
    "            cal_q = f_ls(cls_protein.unsqueeze(1))\n",
    "            cal_qkv = torch.cat((cal_q, x_molecule), dim=1)\n",
    "            cal_out = cal_q + cross_attn_l(cal_qkv)\n",
    "            cal_out = g_sl(cal_out)\n",
    "            protein = torch.cat((cal_out, x_protein), dim=1)\n",
    "\n",
    "            # Cross attention for molecule sequence\n",
    "            cal_q = f_sl(cls_molecule.unsqueeze(1))\n",
    "            cal_qkv = torch.cat((cal_q, x_protein), dim=1)\n",
    "            cal_out = cal_q + cross_attn_s(cal_qkv)\n",
    "            cal_out = g_ls(cal_out)\n",
    "            molecule = torch.cat((cal_out, x_molecule), dim=1)\n",
    "\n",
    "        return molecule, protein\n",
    "    \n",
    "    \n",
    "class AttentionalDTI(nn.Module):\n",
    "    def __init__(self, \n",
    "                 molecule_encoder, protein_encoder, cross_attention_layer, \n",
    "                 molecule_input_dim=128, protein_input_dim=1024, hidden_dim=512, **kwargs):\n",
    "        super().__init__()\n",
    "        self.molecule_encoder = molecule_encoder\n",
    "        self.protein_encoder = protein_encoder\n",
    "        \n",
    "        # model freezing\n",
    "        for param in self.molecule_encoder.parameters():\n",
    "            param.requires_grad = False\n",
    "        \n",
    "        for param in self.protein_encoder.parameters():\n",
    "            param.requires_grad = False\n",
    "        \n",
    "        self.cross_attention_layer = cross_attention_layer\n",
    "        \n",
    "        self.molecule_mlp = nn.Sequential(\n",
    "            nn.LayerNorm(molecule_input_dim),\n",
    "            nn.Linear(molecule_input_dim, hidden_dim)\n",
    "        )\n",
    "        \n",
    "        self.protein_mlp = nn.Sequential(\n",
    "            nn.LayerNorm(protein_input_dim),\n",
    "            nn.Linear(protein_input_dim, hidden_dim)\n",
    "        )\n",
    "        \n",
    "        self.fc_out = nn.Linear(hidden_dim, 1)\n",
    "        \n",
    "    \n",
    "    def forward(self, molecule_seq, protein_seq):\n",
    "        encoded_molecule = self.molecule_encoder(**molecule_seq)\n",
    "        encoded_protein = self.protein_encoder(**protein_seq)\n",
    "        \n",
    "        molecule_out, protein_out = self.cross_attention_layer(encoded_molecule.last_hidden_state, encoded_protein.last_hidden_state)\n",
    "        \n",
    "        molecule_out = molecule_out[:, 0]\n",
    "        protein_out = protein_out[:, 0]\n",
    "        print(molecule_out.shape)\n",
    "        print(protein_out.shape)\n",
    "        \n",
    "        # cls token\n",
    "        molecule_projected = self.molecule_mlp(molecule_out)\n",
    "        protein_projected = self.protein_mlp(protein_out)\n",
    "        \n",
    "        out = self.fc_out(molecule_projected + protein_projected)\n",
    "        \n",
    "        return out\n",
    "        "
   ]
  },
  {
   "cell_type": "code",
   "execution_count": 2,
   "id": "383385d3",
   "metadata": {
    "scrolled": false
   },
   "outputs": [
    {
     "name": "stderr",
     "output_type": "stream",
     "text": [
      "Some weights of BertModel were not initialized from the model checkpoint at weights/molecule_bert_pretrained-masking_rate_30 and are newly initialized: ['pooler.dense.bias', 'pooler.dense.weight']\n",
      "You should probably TRAIN this model on a down-stream task to be able to use it for predictions and inference.\n",
      "Some weights of the model checkpoint at Rostlab/prot_bert were not used when initializing BertModel: ['cls.predictions.decoder.bias', 'cls.seq_relationship.bias', 'cls.predictions.decoder.weight', 'cls.predictions.transform.dense.bias', 'cls.predictions.bias', 'cls.predictions.transform.LayerNorm.weight', 'cls.predictions.transform.LayerNorm.bias', 'cls.seq_relationship.weight', 'cls.predictions.transform.dense.weight']\n",
      "- This IS expected if you are initializing BertModel from the checkpoint of a model trained on another task or with another architecture (e.g. initializing a BertForSequenceClassification model from a BertForPreTraining model).\n",
      "- This IS NOT expected if you are initializing BertModel from the checkpoint of a model that you expect to be exactly identical (initializing a BertForSequenceClassification model from a BertForSequenceClassification model).\n"
     ]
    }
   ],
   "source": [
    "from transformers import BertModel, BertTokenizer\n",
    "from transformers import PreTrainedTokenizerFast, PreTrainedTokenizer\n",
    "\n",
    "molecule_tokenizer = PreTrainedTokenizerFast(\n",
    "    tokenizer_file=\"data/drug/tokenizer_model/vocab.json\",\n",
    "    pad_token=\"[PAD]\", mask_token=\"[MASK]\", cls_token=\"[CLS]\", \n",
    "    sep_token=\"[SEP]\", unk_token=\"[UNK]\", model_max_length=128\n",
    ")\n",
    "molecule_bert = BertModel.from_pretrained(\"weights/molecule_bert_pretrained-masking_rate_30\", local_files_only=True)\n",
    "\n",
    "protein_tokenizer = BertTokenizer.from_pretrained(\"Rostlab/prot_bert\", do_lower_case=False, model_max_length=2048)\n",
    "protein_bert = BertModel.from_pretrained(\"Rostlab/prot_bert\")\n",
    "\n",
    "cross_attention_layer = CrossAttentionLayer()\n",
    "\n",
    "attentional_dti = AttentionalDTI(molecule_bert, protein_bert, cross_attention_layer, cross_attn_depth=4)"
   ]
  },
  {
   "cell_type": "code",
   "execution_count": 3,
   "id": "9f4003ee",
   "metadata": {
    "scrolled": true
   },
   "outputs": [
    {
     "name": "stderr",
     "output_type": "stream",
     "text": [
      "Found local copy...\n",
      "Loading...\n",
      "Done!\n"
     ]
    },
    {
     "data": {
      "text/plain": [
       "{'input_ids': tensor([[30, 53, 19,  7, 63, 35,  8, 63, 53, 20, 53, 53, 53,  5, 10, 53, 21, 53,\n",
       "         63, 53, 53,  5, 41, 30, 30,  5, 40,  6, 30, 53, 22, 53, 53, 53, 53, 53,\n",
       "         22,  6, 53, 21,  6, 53, 53, 19, 20]]), 'token_type_ids': tensor([[0, 0, 0, 0, 0, 0, 0, 0, 0, 0, 0, 0, 0, 0, 0, 0, 0, 0, 0, 0, 0, 0, 0, 0,\n",
       "         0, 0, 0, 0, 0, 0, 0, 0, 0, 0, 0, 0, 0, 0, 0, 0, 0, 0, 0, 0, 0]]), 'attention_mask': tensor([[1, 1, 1, 1, 1, 1, 1, 1, 1, 1, 1, 1, 1, 1, 1, 1, 1, 1, 1, 1, 1, 1, 1, 1,\n",
       "         1, 1, 1, 1, 1, 1, 1, 1, 1, 1, 1, 1, 1, 1, 1, 1, 1, 1, 1, 1, 1]])}"
      ]
     },
     "execution_count": 3,
     "metadata": {},
     "output_type": "execute_result"
    }
   ],
   "source": [
    "from tdc.multi_pred import DTI\n",
    "\n",
    "davis = DTI(name=\"Davis\")\n",
    "davis_split = davis.get_split()\n",
    "\n",
    "smiles_seq = \" \".join(davis_split['train'].loc[0, \"Drug\"])\n",
    "fasta_seq = \" \".join(davis_split['train'].loc[0, \"Target\"]) \n",
    "\n",
    "encoded_smiles = molecule_tokenizer(smiles_seq, return_tensors=\"pt\")\n",
    "encoded_fasta = protein_tokenizer(fasta_seq, return_tensors=\"pt\")\n",
    "\n",
    "encoded_smiles"
   ]
  },
  {
   "cell_type": "code",
   "execution_count": 4,
   "id": "93ca8969",
   "metadata": {},
   "outputs": [
    {
     "name": "stdout",
     "output_type": "stream",
     "text": [
      "torch.Size([1, 128])\n",
      "torch.Size([1, 1024])\n"
     ]
    },
    {
     "data": {
      "text/plain": [
       "tensor([[0.7654]], grad_fn=<AddmmBackward0>)"
      ]
     },
     "execution_count": 4,
     "metadata": {},
     "output_type": "execute_result"
    }
   ],
   "source": [
    "out = attentional_dti(encoded_smiles, encoded_fasta)\n",
    "out"
   ]
  },
  {
   "cell_type": "code",
   "execution_count": null,
   "id": "d354e5be",
   "metadata": {},
   "outputs": [],
   "source": []
  }
 ],
 "metadata": {
  "kernelspec": {
   "display_name": "Python 3 (ipykernel)",
   "language": "python",
   "name": "python3"
  },
  "language_info": {
   "codemirror_mode": {
    "name": "ipython",
    "version": 3
   },
   "file_extension": ".py",
   "mimetype": "text/x-python",
   "name": "python",
   "nbconvert_exporter": "python",
   "pygments_lexer": "ipython3",
   "version": "3.8.12"
  }
 },
 "nbformat": 4,
 "nbformat_minor": 5
}
