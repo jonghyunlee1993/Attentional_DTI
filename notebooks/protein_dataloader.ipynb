{
 "cells": [
  {
   "cell_type": "code",
   "execution_count": 1,
   "id": "9564291f",
   "metadata": {},
   "outputs": [
    {
     "data": {
      "text/plain": [
       "32283871"
      ]
     },
     "execution_count": 1,
     "metadata": {},
     "output_type": "execute_result"
    }
   ],
   "source": [
    "import os\n",
    "import pickle\n",
    "from tqdm import tqdm\n",
    "from torchtext import data, datasets\n",
    "from sklearn.model_selection import train_test_split\n",
    "\n",
    "BATCH_SIZE = 10\n",
    "\n",
    "with open(\"data/protein_sub_7.pickle\", 'rb') as f:\n",
    "    data_dict = pickle.load(f)\n",
    "\n",
    "len(data_dict)"
   ]
  },
  {
   "cell_type": "code",
   "execution_count": null,
   "id": "21859960",
   "metadata": {},
   "outputs": [],
   "source": [
    "data = list(data_dict.values())"
   ]
  },
  {
   "cell_type": "code",
   "execution_count": 12,
   "id": "469fed14",
   "metadata": {
    "scrolled": true
   },
   "outputs": [
    {
     "data": {
      "text/plain": [
       "'SIGNLTELQKIDLHENWLKGLPESIGNLTELQILDLKWNNLRRLPNSFGNLSNLDSLDLRHNSLSTLPNSFSKLKKLPKTLNLTENSIDSLPLSLREMKLESLILVRNDINSFPKGITNLKELKSLDLYKN'"
      ]
     },
     "execution_count": 12,
     "metadata": {},
     "output_type": "execute_result"
    }
   ],
   "source": [
    "sample = data[0]\n",
    "sample"
   ]
  },
  {
   "cell_type": "code",
   "execution_count": 15,
   "id": "f8885f92",
   "metadata": {},
   "outputs": [
    {
     "data": {
      "text/plain": [
       "209.93062774287506"
      ]
     },
     "execution_count": 15,
     "metadata": {},
     "output_type": "execute_result"
    }
   ],
   "source": [
    "import numpy as np\n",
    "\n",
    "temp = [len(d) for d in data]\n",
    "\n",
    "np.mean(temp)"
   ]
  },
  {
   "cell_type": "code",
   "execution_count": 17,
   "id": "b356aea3",
   "metadata": {
    "scrolled": false
   },
   "outputs": [
    {
     "data": {
      "text/plain": [
       "<seaborn.axisgrid.FacetGrid at 0x7f082d215fa0>"
      ]
     },
     "execution_count": 17,
     "metadata": {},
     "output_type": "execute_result"
    },
    {
     "data": {
      "image/png": "[encoded data removed]",
      "text/plain": [
       "<Figure size 360x360 with 1 Axes>"
      ]
     },
     "metadata": {
      "needs_background": "light"
     },
     "output_type": "display_data"
    }
   ],
   "source": [
    "import seaborn as sns\n",
    "\n",
    "sns.displot(temp)"
   ]
  },
  {
   "cell_type": "code",
   "execution_count": 18,
   "id": "c15ed152",
   "metadata": {},
   "outputs": [],
   "source": [
    "import torch\n",
    "import torchtext\n",
    "\n",
    "SRC = torchtext.legacy.data.Field(tokenize=None,\n",
    "                                init_token='<CLS>',\n",
    "                                eos_token='<SEP>',\n",
    "                                pad_token='<PAD>',\n",
    "                                unk_token='<MASK>',\n",
    "                                lower=False,\n",
    "                                batch_first=False,\n",
    "                                include_lengths=False)\n",
    "\n",
    "SRC.build_vocab(data, min_freq=1)"
   ]
  },
  {
   "cell_type": "code",
   "execution_count": 19,
   "id": "a5d5ba7b",
   "metadata": {
    "scrolled": false
   },
   "outputs": [
    {
     "data": {
      "text/plain": [
       "['SIGNLTELQKIDLHENWLKGLPESIGNLTELQILDLKWNNLRRLPNSFGNLSNLDSLDLRHNSLSTLPNSFSKLKKLPKTLNLTENSIDSLPLSLREMKLESLILVRNDINSFPKGITNLKELKSLDLYKN']"
      ]
     },
     "execution_count": 19,
     "metadata": {},
     "output_type": "execute_result"
    }
   ],
   "source": [
    "SRC.preprocess(sample)"
   ]
  },
  {
   "cell_type": "code",
   "execution_count": 20,
   "id": "7e2e61d3",
   "metadata": {},
   "outputs": [
    {
     "data": {
      "text/plain": [
       "['<MASK>',\n",
       " '<PAD>',\n",
       " '<CLS>',\n",
       " '<SEP>',\n",
       " 'A',\n",
       " 'L',\n",
       " 'G',\n",
       " 'V',\n",
       " 'R',\n",
       " 'E',\n",
       " 'S',\n",
       " 'I',\n",
       " 'D',\n",
       " 'T',\n",
       " 'P',\n",
       " 'K',\n",
       " 'F',\n",
       " 'N',\n",
       " 'Q',\n",
       " 'Y',\n",
       " 'H',\n",
       " 'M',\n",
       " 'W',\n",
       " 'C',\n",
       " 'X',\n",
       " 'B',\n",
       " 'Z',\n",
       " 'U']"
      ]
     },
     "execution_count": 20,
     "metadata": {},
     "output_type": "execute_result"
    }
   ],
   "source": [
    "SRC.vocab.itos"
   ]
  },
  {
   "cell_type": "code",
   "execution_count": 21,
   "id": "a84b2ab1",
   "metadata": {},
   "outputs": [],
   "source": [
    "class ProteinaceousLangaugeModelDataset(torch.utils.data.Dataset):\n",
    "    def __init__(self, data, tokenizer, seq_len=128, masking_rate=0.15):\n",
    "        super(ProteinaceousLangaugeModelDataset, self).__init__()\n",
    "\n",
    "        self.data          = data        \n",
    "        self.tokenizer     = tokenizer\n",
    "        self.vocab         = tokenizer.vocab\n",
    "        self.seq_len       = seq_len\n",
    "        self.masking_rate  = masking_rate\n",
    "        \n",
    "        self.cls_token_id  = self.tokenizer.vocab.stoi[self.tokenizer.init_token]\n",
    "        self.sep_token_id  = self.tokenizer.vocab.stoi[self.tokenizer.eos_token]\n",
    "        self.pad_token_id  = self.tokenizer.vocab.stoi[self.tokenizer.pad_token]\n",
    "        self.mask_token_id = self.tokenizer.vocab.stoi[self.tokenizer.unk_token]\n",
    "        \n",
    "    def __getitem__(self, idx):\n",
    "        target = self.tokenizer.numericalize(self.data[idx]).squeeze()\n",
    "        \n",
    "        if len(target) < self.seq_len - 2:\n",
    "            pad_length = self.seq_len - len(target) - 2\n",
    "        else:\n",
    "            target = target[:self.seq_len-2]\n",
    "            pad_length = 0\n",
    "               \n",
    "        masked_sent, masking_label = self.masking(target)\n",
    "        \n",
    "        # MLM\n",
    "        train = torch.cat([\n",
    "            torch.tensor([self.cls_token_id]), \n",
    "            masked_sent,\n",
    "            torch.tensor([self.sep_token_id]),\n",
    "            torch.tensor([self.pad_token_id] * pad_length)\n",
    "        ]).long().contiguous()\n",
    "        \n",
    "        target = torch.cat([\n",
    "            torch.tensor([self.cls_token_id]), \n",
    "            target,\n",
    "            torch.tensor([self.sep_token_id]),\n",
    "            torch.tensor([self.pad_token_id] * pad_length)\n",
    "        ]).long().contiguous()\n",
    "        \n",
    "        masking_label = torch.cat([\n",
    "            torch.zeros(1), \n",
    "            masking_label,\n",
    "            torch.zeros(1),\n",
    "            torch.zeros(pad_length)\n",
    "        ])\n",
    "                \n",
    "        segment_embedding = torch.zeros(target.size(0))\n",
    "        \n",
    "        return train, target, segment_embedding, masking_label\n",
    "        \n",
    "    \n",
    "    def __len__(self):\n",
    "        return len(self.data)\n",
    "    \n",
    "    \n",
    "    def __iter__(self):\n",
    "        for x in self.data:\n",
    "            yield x\n",
    "            \n",
    "    \n",
    "    def get_vocab(self):\n",
    "        return self.vocab\n",
    "\n",
    "    \n",
    "    def masking(self, x):\n",
    "        x             = torch.tensor(x).long().contiguous()\n",
    "        masking_idx   = torch.randperm(x.size()[0])[:round(x.size()[0] * self.masking_rate) + 1]       \n",
    "        masking_label = torch.zeros(x.size()[0])\n",
    "        masking_label[masking_idx] = 1\n",
    "        x             = x.masked_fill(masking_label.bool(), self.mask_token_id)\n",
    "        \n",
    "        return x, masking_label"
   ]
  },
  {
   "cell_type": "code",
   "execution_count": 22,
   "id": "e1632ec6",
   "metadata": {
    "scrolled": true
   },
   "outputs": [
    {
     "name": "stderr",
     "output_type": "stream",
     "text": [
      "<ipython-input-21-e777c6d4f11b>:68: UserWarning: To copy construct from a tensor, it is recommended to use sourceTensor.clone().detach() or sourceTensor.clone().detach().requires_grad_(True), rather than torch.tensor(sourceTensor).\n",
      "  x             = torch.tensor(x).long().contiguous()\n"
     ]
    },
    {
     "name": "stdout",
     "output_type": "stream",
     "text": [
      "tensor([[ 2, 19,  7,  ...,  1,  1,  1],\n",
      "        [ 2, 13, 14,  ...,  1,  1,  1],\n",
      "        [ 2,  7,  0,  ...,  1,  1,  1],\n",
      "        ...,\n",
      "        [ 2,  7,  8,  ...,  1,  1,  1],\n",
      "        [ 2,  7, 12,  ...,  1,  1,  1],\n",
      "        [ 2,  7, 19,  ...,  8,  7,  3]])\n",
      "tensor([[ 2, 19,  7,  ...,  1,  1,  1],\n",
      "        [ 2, 13, 14,  ...,  1,  1,  1],\n",
      "        [ 2,  7,  8,  ...,  1,  1,  1],\n",
      "        ...,\n",
      "        [ 2,  7,  8,  ...,  1,  1,  1],\n",
      "        [ 2,  7, 12,  ...,  1,  1,  1],\n",
      "        [ 2,  7, 19,  ...,  8,  7,  3]])\n"
     ]
    }
   ],
   "source": [
    "dataset = ProteinaceousLangaugeModelDataset(data, SRC, seq_len=256, masking_rate=0.15)\n",
    "data_loader = torch.utils.data.DataLoader(dataset, batch_size=10, shuffle=True)\n",
    "\n",
    "for train, target, sengment_embedding, masking_label in data_loader:\n",
    "    print(train)\n",
    "    print(target)\n",
    "#     print(sengment_embedding)\n",
    "#     print(masking_label)\n",
    "    break"
   ]
  },
  {
   "cell_type": "code",
   "execution_count": 23,
   "id": "9a219b36",
   "metadata": {},
   "outputs": [
    {
     "data": {
      "text/plain": [
       "['<CLS>YVTTELAMEWAIQPADHQPSDWAQRLSYVRVFARHWHATDPRTEIPPDGLLPFRPQRARPYLYSEQEIQKLLAAALKLSPHQGLRPWTYHCLLGLLAVAGLRISEALKLERPDVDLHEGILTIRQTKFGKTRLVPLHQSARDVLADYARRRDRFLRNASSPSFFLNDHGRRLDGSAVRRTFYDLSRQIGLRRPEDRKGPRLHDFRHRFAVRTLV<SEP><PAD><PAD><PAD><PAD><PAD><PAD><PAD><PAD><PAD><PAD><PAD><PAD><PAD><PAD><PAD><PAD><PAD><PAD><PAD><PAD><PAD><PAD><PAD><PAD><PAD><PAD><PAD><PAD><PAD><PAD><PAD><PAD><PAD><PAD><PAD><PAD><PAD><PAD><PAD><PAD>',\n",
       " '<CLS>TPASLAGALNNIAITEKQLGRYRAAEAHYRESLTLSRRTGSALNVARNLNNLGLLLLADGRPEEAQAILREGLELARSIDAKQVVPHLLGGLAKAALARGDNATARATADEAARLTEAAGARGSLVAAL<SEP><PAD><PAD><PAD><PAD><PAD><PAD><PAD><PAD><PAD><PAD><PAD><PAD><PAD><PAD><PAD><PAD><PAD><PAD><PAD><PAD><PAD><PAD><PAD><PAD><PAD><PAD><PAD><PAD><PAD><PAD><PAD><PAD><PAD><PAD><PAD><PAD><PAD><PAD><PAD><PAD><PAD><PAD><PAD><PAD><PAD><PAD><PAD><PAD><PAD><PAD><PAD><PAD><PAD><PAD><PAD><PAD><PAD><PAD><PAD><PAD><PAD><PAD><PAD><PAD><PAD><PAD><PAD><PAD><PAD><PAD><PAD><PAD><PAD><PAD><PAD><PAD><PAD><PAD><PAD><PAD><PAD><PAD><PAD><PAD><PAD><PAD><PAD><PAD><PAD><PAD><PAD><PAD><PAD><PAD><PAD><PAD><PAD><PAD><PAD><PAD><PAD><PAD><PAD><PAD><PAD><PAD><PAD><PAD><PAD><PAD><PAD><PAD><PAD><PAD><PAD><PAD><PAD><PAD><PAD><PAD><PAD><PAD><PAD><PAD><PAD>',\n",
       " '<CLS>VRPVLPKFVLRGVSGQGFGRSYPLVGPTVVGRAPECVLRLDESGLSRQHARLVPTAEGMQVEDLGSTNGTFINGKRIQRGFA<SEP><PAD><PAD><PAD><PAD><PAD><PAD><PAD><PAD><PAD><PAD><PAD><PAD><PAD><PAD><PAD><PAD><PAD><PAD><PAD><PAD><PAD><PAD><PAD><PAD><PAD><PAD><PAD><PAD><PAD><PAD><PAD><PAD><PAD><PAD><PAD><PAD><PAD><PAD><PAD><PAD><PAD><PAD><PAD><PAD><PAD><PAD><PAD><PAD><PAD><PAD><PAD><PAD><PAD><PAD><PAD><PAD><PAD><PAD><PAD><PAD><PAD><PAD><PAD><PAD><PAD><PAD><PAD><PAD><PAD><PAD><PAD><PAD><PAD><PAD><PAD><PAD><PAD><PAD><PAD><PAD><PAD><PAD><PAD><PAD><PAD><PAD><PAD><PAD><PAD><PAD><PAD><PAD><PAD><PAD><PAD><PAD><PAD><PAD><PAD><PAD><PAD><PAD><PAD><PAD><PAD><PAD><PAD><PAD><PAD><PAD><PAD><PAD><PAD><PAD><PAD><PAD><PAD><PAD><PAD><PAD><PAD><PAD><PAD><PAD><PAD><PAD><PAD><PAD><PAD><PAD><PAD><PAD><PAD><PAD><PAD><PAD><PAD><PAD><PAD><PAD><PAD><PAD><PAD><PAD><PAD><PAD><PAD><PAD><PAD><PAD><PAD><PAD><PAD><PAD><PAD><PAD><PAD><PAD><PAD><PAD><PAD><PAD><PAD><PAD><PAD><PAD><PAD><PAD><PAD><PAD><PAD><PAD>',\n",
       " '<CLS>VNDNVAVADPVLAGAAPEHPNQFALLKQRRFAPFFWTQFAGAANDNLFKFAFTVLVTYQLQVSWLSAEMAGLVIGAVFILPFLLFSATSGQLADKYDKRGLIRFVKWLEVGIMVLAAIGFFGANVPILLGCTFLMGLHSTLFGPVKFAYLPQHLGERELTGGNGMVEMGTFIAILLGTIAGGLVIAIPQVGPHWVGASCIALALVGRLAAQWIPLSPSTDPGLKINWNPVSETWRNLKLAHGNVVVFRSLLGIS<SEP>',\n",
       " '<CLS>STMLAKSTTPTHSPTMAIHDLPPPTWHQQTPESVLRLIDSRADGLTDHEAETRRAQYGDNLLVTAARRSALRMLLAQFGDVMVLVLIGAALVAMLVGEAEDTLAIVAIVLLNAVLGFVQEYRAEQALAALGQMAAPSARVRRAGREQSIAAHRLVPGDLVLLEAGNVVPADLRLLHIQRLAVDESALTGESLAVEKHTAALDDAELPLGDRRNLAYKGTTVTAGRAEGVVVTTGMRTELGRIAAMLGAQQDPRS<SEP>',\n",
       " '<CLS>TVKMISAEIGYSSPNSFVRAFRRVAGVTPMAYRKSKIACPA<SEP><PAD><PAD><PAD><PAD><PAD><PAD><PAD><PAD><PAD><PAD><PAD><PAD><PAD><PAD><PAD><PAD><PAD><PAD><PAD><PAD><PAD><PAD><PAD><PAD><PAD><PAD><PAD><PAD><PAD><PAD><PAD><PAD><PAD><PAD><PAD><PAD><PAD><PAD><PAD><PAD><PAD><PAD><PAD><PAD><PAD><PAD><PAD><PAD><PAD><PAD><PAD><PAD><PAD><PAD><PAD><PAD><PAD><PAD><PAD><PAD><PAD><PAD><PAD><PAD><PAD><PAD><PAD><PAD><PAD><PAD><PAD><PAD><PAD><PAD><PAD><PAD><PAD><PAD><PAD><PAD><PAD><PAD><PAD><PAD><PAD><PAD><PAD><PAD><PAD><PAD><PAD><PAD><PAD><PAD><PAD><PAD><PAD><PAD><PAD><PAD><PAD><PAD><PAD><PAD><PAD><PAD><PAD><PAD><PAD><PAD><PAD><PAD><PAD><PAD><PAD><PAD><PAD><PAD><PAD><PAD><PAD><PAD><PAD><PAD><PAD><PAD><PAD><PAD><PAD><PAD><PAD><PAD><PAD><PAD><PAD><PAD><PAD><PAD><PAD><PAD><PAD><PAD><PAD><PAD><PAD><PAD><PAD><PAD><PAD><PAD><PAD><PAD><PAD><PAD><PAD><PAD><PAD><PAD><PAD><PAD><PAD><PAD><PAD><PAD><PAD><PAD><PAD><PAD><PAD><PAD><PAD><PAD><PAD><PAD><PAD><PAD><PAD><PAD><PAD><PAD><PAD><PAD><PAD><PAD><PAD><PAD><PAD><PAD><PAD><PAD><PAD><PAD><PAD><PAD><PAD><PAD><PAD><PAD><PAD><PAD><PAD><PAD><PAD><PAD><PAD><PAD><PAD><PAD><PAD><PAD><PAD><PAD><PAD>',\n",
       " '<CLS>SLDTTTDSGAKGDGITSFAQIEIDGSAAPGSTVTLYDTNGTTVIGTGTANATTGAFSITTSALTTGNHSITAKAADAAGNVSTASTPYSVTVTAPTYDHIVVVIDENKNYGDVIGSPT<SEP><PAD><PAD><PAD><PAD><PAD><PAD><PAD><PAD><PAD><PAD><PAD><PAD><PAD><PAD><PAD><PAD><PAD><PAD><PAD><PAD><PAD><PAD><PAD><PAD><PAD><PAD><PAD><PAD><PAD><PAD><PAD><PAD><PAD><PAD><PAD><PAD><PAD><PAD><PAD><PAD><PAD><PAD><PAD><PAD><PAD><PAD><PAD><PAD><PAD><PAD><PAD><PAD><PAD><PAD><PAD><PAD><PAD><PAD><PAD><PAD><PAD><PAD><PAD><PAD><PAD><PAD><PAD><PAD><PAD><PAD><PAD><PAD><PAD><PAD><PAD><PAD><PAD><PAD><PAD><PAD><PAD><PAD><PAD><PAD><PAD><PAD><PAD><PAD><PAD><PAD><PAD><PAD><PAD><PAD><PAD><PAD><PAD><PAD><PAD><PAD><PAD><PAD><PAD><PAD><PAD><PAD><PAD><PAD><PAD><PAD><PAD><PAD><PAD><PAD><PAD><PAD><PAD><PAD><PAD><PAD><PAD><PAD><PAD><PAD><PAD><PAD><PAD><PAD><PAD><PAD><PAD><PAD><PAD><PAD><PAD><PAD>',\n",
       " '<CLS>VRKAIIVGVNEIGVSIAKLLVSNGYEVSTISRSREEARICKGVPVYVYVGDPASEELLTEAGIDKAELVVSLYDDETNLRVAELAKSHGVPTIVVLNYNKEKYLDRFIELGVIAIPIVDAVLSKIANY<SEP><PAD><PAD><PAD><PAD><PAD><PAD><PAD><PAD><PAD><PAD><PAD><PAD><PAD><PAD><PAD><PAD><PAD><PAD><PAD><PAD><PAD><PAD><PAD><PAD><PAD><PAD><PAD><PAD><PAD><PAD><PAD><PAD><PAD><PAD><PAD><PAD><PAD><PAD><PAD><PAD><PAD><PAD><PAD><PAD><PAD><PAD><PAD><PAD><PAD><PAD><PAD><PAD><PAD><PAD><PAD><PAD><PAD><PAD><PAD><PAD><PAD><PAD><PAD><PAD><PAD><PAD><PAD><PAD><PAD><PAD><PAD><PAD><PAD><PAD><PAD><PAD><PAD><PAD><PAD><PAD><PAD><PAD><PAD><PAD><PAD><PAD><PAD><PAD><PAD><PAD><PAD><PAD><PAD><PAD><PAD><PAD><PAD><PAD><PAD><PAD><PAD><PAD><PAD><PAD><PAD><PAD><PAD><PAD><PAD><PAD><PAD><PAD><PAD><PAD><PAD><PAD><PAD><PAD><PAD><PAD><PAD><PAD><PAD><PAD><PAD><PAD>',\n",
       " '<CLS>VDTATAVSEAKPASDALIEVRLTAIRYAARDTNIFEFRRPDGQPLPPYEPGAHVDVHLPSGHMRSYSLIVARPEPDTYTFAIKRDPASRGGSRFIHDELRVGKTIKISAPRNNFPLKEDASHTIL<SEP><PAD><PAD><PAD><PAD><PAD><PAD><PAD><PAD><PAD><PAD><PAD><PAD><PAD><PAD><PAD><PAD><PAD><PAD><PAD><PAD><PAD><PAD><PAD><PAD><PAD><PAD><PAD><PAD><PAD><PAD><PAD><PAD><PAD><PAD><PAD><PAD><PAD><PAD><PAD><PAD><PAD><PAD><PAD><PAD><PAD><PAD><PAD><PAD><PAD><PAD><PAD><PAD><PAD><PAD><PAD><PAD><PAD><PAD><PAD><PAD><PAD><PAD><PAD><PAD><PAD><PAD><PAD><PAD><PAD><PAD><PAD><PAD><PAD><PAD><PAD><PAD><PAD><PAD><PAD><PAD><PAD><PAD><PAD><PAD><PAD><PAD><PAD><PAD><PAD><PAD><PAD><PAD><PAD><PAD><PAD><PAD><PAD><PAD><PAD><PAD><PAD><PAD><PAD><PAD><PAD><PAD><PAD><PAD><PAD><PAD><PAD><PAD><PAD><PAD><PAD><PAD><PAD><PAD><PAD><PAD><PAD><PAD><PAD><PAD><PAD><PAD><PAD><PAD><PAD>',\n",
       " '<CLS>VYERXFGLVDAPFRLTPDPRYFFLSPKHREALAHLRLGLTEPGGFVCITGDIGTGKTTLLRTFFEDLGPEVAIAYVFNPAVSAEELLQRIARELGVAAASGTRADLTDALNAHLLAERKAGRLSVVVLDEAQAVSIEVLEQLRLLSNLETSTEKLLRLVLVGQPQLAALLVDPALAQLNQRITLRWHLGPLTAEETAAYVRHRLKVASGGKVTDLFTRPALWLVHRFSRGVPRLVNMIAHRALLVAYVARRRRV<SEP>']"
      ]
     },
     "execution_count": 23,
     "metadata": {},
     "output_type": "execute_result"
    }
   ],
   "source": [
    "def decode(x, tokenizer):\n",
    "    results = []\n",
    "    for line in x:\n",
    "        decoded = \"\"\n",
    "        for s in line:\n",
    "            decoded += tokenizer.vocab.itos[s]\n",
    "        results.append(decoded)\n",
    "        \n",
    "    return results\n",
    "\n",
    "decode(target, SRC)"
   ]
  },
  {
   "cell_type": "code",
   "execution_count": null,
   "id": "d7fa0c55",
   "metadata": {},
   "outputs": [],
   "source": []
  }
 ],
 "metadata": {
  "kernelspec": {
   "display_name": "Python 3",
   "language": "python",
   "name": "python3"
  },
  "language_info": {
   "codemirror_mode": {
    "name": "ipython",
    "version": 3
   },
   "file_extension": ".py",
   "mimetype": "text/x-python",
   "name": "python",
   "nbconvert_exporter": "python",
   "pygments_lexer": "ipython3",
   "version": "3.8.0"
  }
 },
 "nbformat": 4,
 "nbformat_minor": 5
}
