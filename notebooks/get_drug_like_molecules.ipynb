{
 "cells": [
  {
   "cell_type": "code",
   "execution_count": 1,
   "id": "f8c5210a",
   "metadata": {},
   "outputs": [],
   "source": [
    "import pandas as pd\n",
    "from tqdm import tqdm\n",
    "from rdkit import Chem\n",
    "from rdkit.Chem.QED import qed\n",
    "\n",
    "from rdkit import RDLogger \n",
    "RDLogger.DisableLog('rdApp.*')\n",
    "\n",
    "import warnings\n",
    "warnings.filterwarnings(action='ignore')\n",
    "\n",
    "\n",
    "with open(\"data/drug/molecule_total.txt\", 'r') as f:\n",
    "    data = f.readlines()"
   ]
  },
  {
   "cell_type": "code",
   "execution_count": 2,
   "id": "2a002745",
   "metadata": {},
   "outputs": [
    {
     "name": "stderr",
     "output_type": "stream",
     "text": [
      "100%|█████████████████████████████████████████████████████████| 93673016/93673016 [23:21:32<00:00, 1113.93it/s]\n"
     ]
    },
    {
     "data": {
      "text/html": [
       "<div>\n",
       "<style scoped>\n",
       "    .dataframe tbody tr th:only-of-type {\n",
       "        vertical-align: middle;\n",
       "    }\n",
       "\n",
       "    .dataframe tbody tr th {\n",
       "        vertical-align: top;\n",
       "    }\n",
       "\n",
       "    .dataframe thead th {\n",
       "        text-align: right;\n",
       "    }\n",
       "</style>\n",
       "<table border=\"1\" class=\"dataframe\">\n",
       "  <thead>\n",
       "    <tr style=\"text-align: right;\">\n",
       "      <th></th>\n",
       "      <th>Smiles</th>\n",
       "      <th>QED</th>\n",
       "    </tr>\n",
       "  </thead>\n",
       "  <tbody>\n",
       "    <tr>\n",
       "      <th>0</th>\n",
       "      <td>CC1CCCC(NCC2C(C)(C)C2(C)C)C1C</td>\n",
       "      <td>0.779571</td>\n",
       "    </tr>\n",
       "    <tr>\n",
       "      <th>1</th>\n",
       "      <td>Cc1cc(CCN)ccc1N(CC(C)C)C1CCCC1</td>\n",
       "      <td>0.852146</td>\n",
       "    </tr>\n",
       "    <tr>\n",
       "      <th>2</th>\n",
       "      <td>O=C1CSC(N=Cc2ccccc2O)=NN1</td>\n",
       "      <td>0.711455</td>\n",
       "    </tr>\n",
       "    <tr>\n",
       "      <th>3</th>\n",
       "      <td>CCC1(C(O)Cc2cc(C)nn2C)CCCC1</td>\n",
       "      <td>0.872315</td>\n",
       "    </tr>\n",
       "    <tr>\n",
       "      <th>4</th>\n",
       "      <td>CNc1ccc(C(=O)NC2CCSCC2)cn1</td>\n",
       "      <td>0.859080</td>\n",
       "    </tr>\n",
       "  </tbody>\n",
       "</table>\n",
       "</div>"
      ],
      "text/plain": [
       "                           Smiles       QED\n",
       "0   CC1CCCC(NCC2C(C)(C)C2(C)C)C1C  0.779571\n",
       "1  Cc1cc(CCN)ccc1N(CC(C)C)C1CCCC1  0.852146\n",
       "2       O=C1CSC(N=Cc2ccccc2O)=NN1  0.711455\n",
       "3     CCC1(C(O)Cc2cc(C)nn2C)CCCC1  0.872315\n",
       "4      CNc1ccc(C(=O)NC2CCSCC2)cn1  0.859080"
      ]
     },
     "execution_count": 2,
     "metadata": {},
     "output_type": "execute_result"
    }
   ],
   "source": [
    "res = {\"Smiles\": [], \"QED\": []}\n",
    "\n",
    "for smiles in tqdm(data):\n",
    "    try:\n",
    "        mol = Chem.MolFromSmiles(smiles.rstrip(\"\\n\"))\n",
    "        qed_score = qed(mol)\n",
    "\n",
    "        if qed_score >= 0.7:\n",
    "            canonical_smiles = Chem.MolToSmiles(mol)\n",
    "            res[\"Smiles\"].append(canonical_smiles)\n",
    "            res[\"QED\"].append(qed_score)\n",
    "    except:\n",
    "        pass\n",
    "\n",
    "res = pd.DataFrame(res).drop_duplicates().reset_index(drop=True)\n",
    "res.head()"
   ]
  },
  {
   "cell_type": "code",
   "execution_count": 5,
   "id": "dda67d7a",
   "metadata": {},
   "outputs": [
    {
     "data": {
      "text/plain": [
       "'CC1CCCC(NCC2C(C)(C)C2(C)C)C1C'"
      ]
     },
     "execution_count": 5,
     "metadata": {},
     "output_type": "execute_result"
    }
   ],
   "source": [
    "output = res.Smiles.values.tolist()\n",
    "output[0]"
   ]
  },
  {
   "cell_type": "code",
   "execution_count": 7,
   "id": "462b8177",
   "metadata": {},
   "outputs": [],
   "source": [
    "with open(\"data/drug/molecule_qed_filtered.txt\", 'w') as f:\n",
    "    for line in output:\n",
    "        f.write(line)\n",
    "        f.write('\\n')"
   ]
  },
  {
   "cell_type": "code",
   "execution_count": null,
   "id": "ef390a3f",
   "metadata": {},
   "outputs": [],
   "source": []
  }
 ],
 "metadata": {
  "kernelspec": {
   "display_name": "Python 3 (ipykernel)",
   "language": "python",
   "name": "python3"
  },
  "language_info": {
   "codemirror_mode": {
    "name": "ipython",
    "version": 3
   },
   "file_extension": ".py",
   "mimetype": "text/x-python",
   "name": "python",
   "nbconvert_exporter": "python",
   "pygments_lexer": "ipython3",
   "version": "3.8.12"
  }
 },
 "nbformat": 4,
 "nbformat_minor": 5
}
