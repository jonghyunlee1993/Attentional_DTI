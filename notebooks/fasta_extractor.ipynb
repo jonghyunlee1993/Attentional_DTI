{
 "cells": [
  {
   "cell_type": "code",
   "execution_count": 26,
   "id": "a974444a",
   "metadata": {
    "scrolled": true
   },
   "outputs": [
    {
     "name": "stdout",
     "output_type": "stream",
     "text": [
      "pickle file saved protein_sub_0.pickle\n",
      "pickle file saved protein_sub_1.pickle\n",
      "pickle file saved protein_sub_2.pickle\n",
      "pickle file saved protein_sub_3.pickle\n",
      "pickle file saved protein_sub_4.pickle\n",
      "pickle file saved protein_sub_5.pickle\n",
      "pickle file saved protein_sub_6.pickle\n",
      "file id 7 processed line: 32280000\r"
     ]
    }
   ],
   "source": [
    "import pickle\n",
    "\n",
    "subfile_id = 0\n",
    "protein = {}\n",
    "\n",
    "with open(\"proteinnet12.fa\") as f:\n",
    "    for i, line in enumerate(f):\n",
    "        if i % 2 == 0:\n",
    "            key = line[1:-1]\n",
    "        elif i % 2 == 1:\n",
    "            value = line[:-1]\n",
    "            protein[key] = value\n",
    "        \n",
    "        if i % 10000 == 0:\n",
    "            print(f\"file id {subfile_id} processed line: {len(protein)}\", end=\"\\r\")\n",
    "            \n",
    "        if i % 100000000 == 0:\n",
    "            fname = \"protein_sub_\" + str(subfile_id) + \".pickle\"\n",
    "            \n",
    "            with open(fname, \"wb\") as f:\n",
    "                pickle.dump(protein, f)\n",
    "            \n",
    "            print(f\"pickle file saved {fname}\")\n",
    "\n",
    "            protein = {}\n",
    "            subfile_id += 1\n",
    "\n",
    "with open(fname, \"wb\") as f:\n",
    "    pickle.dump(protein, f)"
   ]
  },
  {
   "cell_type": "code",
   "execution_count": null,
   "id": "fb9ec8fd",
   "metadata": {},
   "outputs": [],
   "source": [
    "import glob\n",
    "\n",
    "files = glob.glob(\"*.pickle\")\n",
    "\n",
    "protein = []\n",
    "\n",
    "for file in files:\n",
    "    with open(file, 'rb') as f:\n",
    "        data = pickle.load(f)\n",
    "        \n",
    "    protein.append(data.values())\n",
    "    \n",
    "len(protein)"
   ]
  },
  {
   "cell_type": "code",
   "execution_count": null,
   "id": "d3c2c1ae",
   "metadata": {},
   "outputs": [],
   "source": []
  }
 ],
 "metadata": {
  "kernelspec": {
   "display_name": "Python 3",
   "language": "python",
   "name": "python3"
  },
  "language_info": {
   "codemirror_mode": {
    "name": "ipython",
    "version": 3
   },
   "file_extension": ".py",
   "mimetype": "text/x-python",
   "name": "python",
   "nbconvert_exporter": "python",
   "pygments_lexer": "ipython3",
   "version": "3.8.0"
  }
 },
 "nbformat": 4,
 "nbformat_minor": 5
}
